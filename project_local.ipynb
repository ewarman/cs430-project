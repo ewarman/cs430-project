{
 "cells": [
  {
   "cell_type": "code",
<<<<<<< HEAD
   "execution_count": 1,
=======
   "execution_count": 50,
>>>>>>> cdc93a0cd31c22cef8aba7cace1010e6e2a034aa
   "metadata": {
    "collapsed": true
   },
   "outputs": [],
   "source": [
    "##########################\n",
    "# CS 430 Final Project\n",
    "# Emily Warman, Rachael Affenit\n",
    "# Local Approach\n",
    "##########################\n",
    "\n",
    "import os\n",
    "import copy\n",
    "import itertools\n",
    "import matplotlib.pyplot as plt\n",
    "import math\n",
    "from pyrsistent import pmap"
   ]
  },
  {
   "cell_type": "code",
<<<<<<< HEAD
   "execution_count": 156,
=======
   "execution_count": 51,
>>>>>>> cdc93a0cd31c22cef8aba7cace1010e6e2a034aa
   "metadata": {
    "collapsed": false
   },
   "outputs": [],
   "source": [
    "##########################\n",
    "# Helper Functions\n",
    "##########################\n",
    "\n",
    "#define plot function\n",
    "%matplotlib inline\n",
    "def plot(points,graph,lines):\n",
    "    plt.scatter(*zip(*points))\n",
    "    axes = plt.gca()\n",
    "    #plot lines drawn\n",
    "    for line in lines:\n",
    "        if line[1]==0:\n",
    "            plt.plot([line[0], line[0]],[0,6], color='b', linestyle='-',linewidth=2)\n",
    "        else:\n",
    "            plt.plot([0,6],[line[0],line[0]], color='b', linestyle='-', linewidth=2)\n",
    "    #plot remaining\n",
    "    for point in graph.keys():\n",
    "        for p2 in graph[point]:\n",
    "            plt.plot([point[0], p2[0]], [point[1], p2[1]], linestyle='-', linewidth=2)\n",
    "    plt.show()\n",
    "\n",
    "#get all permutations of a list of possible lines\n",
    "def get_combinations(lines):\n",
    "    return itertools.combinations(lines,2)\n",
    "\n",
    "#make a list of possible lines (range function that takes floats)\n",
    "def drange(x, y, jump):\n",
    "    r=[]\n",
    "    while x < y:\n",
    "        r.append(float(x))\n",
    "        x += jump\n",
    "    return r\n",
    "\n",
    "#create lists of possible points (min x to max x, min y to max y)\n",
    "#O(nlogn)\n",
    "def get_all_possible(points):\n",
    "    x_sort = sorted(points, key=lambda x: x[0])\n",
    "    y_sort = sorted(points, key=lambda x: x[1])\n",
    "    x_min = x_sort[0][0]\n",
    "    x_max = x_sort[-1][0]\n",
    "    y_min = y_sort[0][1]\n",
    "    y_max = y_sort[-1][1]\n",
    "    x = [0]*len(x_sort)\n",
    "    y = [1]*len(y_sort)\n",
    "    \n",
    "    return (list(zip(drange(x_min+.5,x_max+.5,1),x))), (list(zip(drange(y_min+.5,y_max+.5,1),y)))\n",
    "    #return drange(x_min+.5,x_max+.5,1)\n",
    "\n",
    "#make a graph of all possible graph points\n",
    "#O(n^2)\n",
    "def make_graph(points):\n",
    "    initial_graph = dict.fromkeys(points)\n",
    "    for point in initial_graph.keys():\n",
    "        c_copy = copy.copy(points)\n",
    "        c_copy.remove(point)\n",
    "        initial_graph[point] = c_copy\n",
    "    return initial_graph\n",
    "\n",
    "def make_empty_graph(points):\n",
    "    initial_graph = dict.fromkeys(points)\n",
    "    for key in initial_graph.keys():\n",
    "        initial_graph[key]=[]\n",
    "    return(initial_graph)\n",
    "\n",
    "#draw a new parallel line to separate points\n",
    "def draw(g, line, idx):\n",
    "    graph = copy.copy(g)\n",
    "    #print(\"LINE\",line)\n",
    "    left = []\n",
    "    right = []\n",
    "    #mark points left and right (or above and below) the line to be drawn\n",
    "    for point in graph.keys():\n",
    "        if point[idx]<line:\n",
    "            left.append(point)\n",
    "        if point[idx]>line:\n",
    "            right.append(point)\n",
    "    #separate the points\n",
    "    #print(left,right)\n",
    "    for point in graph.keys():\n",
    "        #print(\"point\",point)\n",
    "        if point in left:\n",
    "            for p2 in right:\n",
    "                if p2 in graph[point]:\n",
    "                    #print(\"removing\",p2)\n",
    "                    graph[point].remove(p2)\n",
    "        if point in right:\n",
    "            for p2 in left:\n",
    "                if p2 in graph[point]:\n",
    "                    graph[point].remove(p2)\n",
    "    return graph\n",
    "\n",
    "def erase(g,line,all_lines,idx):\n",
    "    #use only lines with the right orientation\n",
    "    graph=copy.copy(g)\n",
    "    dim_lines=sorted([])\n",
    "    for l in all_lines:\n",
    "        if l[1]==idx:\n",
    "            dim_lines.append(l[0])\n",
    "    #construct window\n",
    "    #print('DIM LINES:',dim_lines)\n",
    "    index = dim_lines.index(line)\n",
    "    #print(\"INDEX\",index)\n",
    "    if(index>0):\n",
    "        left = dim_lines[index-1]\n",
    "    else:\n",
    "        left = 0\n",
    "    if(index<len(dim_lines)-1):\n",
    "        right = dim_lines[index+1]\n",
    "    else:\n",
    "        right = 1000\n",
    "    #print(\"Left,Right:\",left,right)\n",
    "    in_box=[]\n",
    "    for point in graph.keys():\n",
    "        if point[idx]>left and point[idx]<right:\n",
    "            in_box.append(point)\n",
    "    #print(\"INBOX POINTS:\",in_box)\n",
    "    for p in in_box:\n",
    "        for p2 in in_box:\n",
    "            if p2!=p and p2 not in graph[p]:\n",
    "                #print(p,p2)\n",
    "                graph[p].append(p2)\n",
    "    return graph\n",
    "\n",
    "#O(n)\n",
    "def nodes_left(graph):\n",
    "    for point in graph.keys():\n",
    "        if graph[point]!=[]:\n",
    "            return True\n",
    "    return False"
   ]
  },
  {
   "cell_type": "code",
<<<<<<< HEAD
   "execution_count": 111,
=======
   "execution_count": null,
>>>>>>> cdc93a0cd31c22cef8aba7cace1010e6e2a034aa
   "metadata": {
    "collapsed": false
   },
   "outputs": [],
   "source": [
    "##########################\n",
    "# Main Program: Import Data\n",
    "##########################\n",
<<<<<<< HEAD
    "#for filename in os.listdir(os.getcwd()+'/input'):\n",
    "    \n",
    "def read_file(filename):\n",
    "    points = []\n",
    "    with open('input/'+filename, 'r') as f:\n",
    "        inpt = f.readlines()\n",
    "        for point in inpt[1:]:\n",
    "            point = point.split(' ')\n",
    "            points.append(((int(point[0])),(int(point[1]))))\n",
    "    return points\n",
    "\n",
    "points = read_file('instance_03.txt')\n",
    "all_x_lines,all_y_lines=get_all_possible(points)\n",
    "graph = make_graph(points)\n",
    "total_lines_drawn = 0"
=======
    "filename = os.getcwd()+'/input/'\n",
    "points = []\n",
    "with open(filename+'instance01.txt', 'r') as f:\n",
    "    inpt = f.readlines()\n",
    "    for point in inpt[1:]:\n",
    "        point = point.split(' ')\n",
    "        points.append(((int(point[0])),(int(point[1]))))"
>>>>>>> cdc93a0cd31c22cef8aba7cace1010e6e2a034aa
   ]
  },
  {
   "cell_type": "markdown",
   "metadata": {},
   "source": [
    "SEPARATING POINTS BY AXIS-PARALLEL LINES\n",
    "\n",
    "Think about the points given as vertices of a graph. Imagine that when there are no lines drawn, no points are separated from each other. The graph is fully connected.\n",
    "\n",
    "The figure below represents the example input as a fully connected graph"
   ]
  },
  {
   "cell_type": "code",
<<<<<<< HEAD
   "execution_count": 30,
=======
   "execution_count": null,
>>>>>>> cdc93a0cd31c22cef8aba7cace1010e6e2a034aa
   "metadata": {
    "collapsed": true
   },
<<<<<<< HEAD
   "outputs": [
    {
     "data": {
      "image/png": "iVBORw0KGgoAAAANSUhEUgAAAXMAAAEACAYAAABBDJb9AAAABHNCSVQICAgIfAhkiAAAAAlwSFlz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\nYII=\n",
      "text/plain": [
       "<matplotlib.figure.Figure at 0x105c81278>"
      ]
     },
     "metadata": {},
     "output_type": "display_data"
    }
   ],
=======
   "outputs": [],
>>>>>>> cdc93a0cd31c22cef8aba7cace1010e6e2a034aa
   "source": [
    "plot(points,graph,[1.5,2.5],[3.5,4.5])"
   ]
  },
  {
   "cell_type": "markdown",
   "metadata": {},
   "source": [
    "When a vertical line is drawn between the points, the connections between the points to the left of the line and right (or top and bottom if horizontal) of the line are broken. When there are no edges in the graph, each point is fully separated from its neighbors. See example below:"
   ]
  },
  {
   "cell_type": "code",
   "execution_count": 15,
   "metadata": {
    "collapsed": true
   },
   "outputs": [
    {
     "name": "stdout",
     "output_type": "stream",
     "text": [
      "First separation\n"
     ]
    },
    {
     "data": {
      "image/png": "iVBORw0KGgoAAAANSUhEUgAAAgMAAAFkCAYAAAC9wjgoAAAABHNCSVQICAgIfAhkiAAAAAlwSFlz\nAAAPYQAAD2EBqD+naQAAHRtJREFUeJzt3X2UXGWd4PHvj4BGwG0jKIwEcEh3Ir4M2g07uLOAjlkS\nm+PbWRUrEEQPo+jMmO1dd4RVl6N/jM64Gl/xjLMzAraWwxmHVdeQxoiCMGRYuhXfgt0d3lEikNjO\nwEAiefaPajKdpNNdVelbt6qe7+ecHE9fqu7zUMdwv/2r29WRUkKSJOXrkLI3IEmSymUMSJKUOWNA\nkqTMGQOSJGXOGJAkKXPGgCRJmTMGJEnKnDEgSVLmjAFJkjJnDEiSlLlCYyAi7oqI3bP8+UyR60qS\npPodWvD5TwUWzfj6JcB1wNUFrytJkupUaAyklB6Z+XVEvAbYmlL6fpHrSpKk+rXsnoGIOAw4D/ib\nVq0pSZLmV/TbBDO9AegBrjzQAyLiKGAVcDfweGu2JUlSV1gMPB8Y2XcyP59IKRWyo/0WitgIPJFS\net0cj1kDfLklG5IkqTudl1L6SiNPaMlkICJOAFYCr5/noXcDDA8Pc/LJJxe9ra4yNDTE+vXry95G\nR/E1a46vW+N8zZrj69aYLVu2cP7558P0tbQRrXqb4O3ANmDDPI97HODkk0+mv7+/8E11k56eHl+z\nBvmaNcfXrXG+Zs3xdWtaw2+zF34DYUQEcCFwRUppd9HrSZKkxrTipwlWAscDX2zBWpIkqUGFv02Q\nUvo2e3/wkCRJaiP+boIuUalUyt5Cx/E1a46vW+N8zZrj69Y6LfvRwnpERD8wOjo66k0jkiQ1YGxs\njIGBAYCBlNJYI891MiBJUuaMAUmSMmcMSJKUOWNAkqTMGQOSJGXOGJAkKXPGgCRJmTMGJEnKnDEg\nSVLmjAFJkjJnDEiSlDljQJKkzBkDkiRlzhiQJClzxoAkSZkzBiRJypwxIElS5owBSZIyZwxIkpQ5\nY0CSpMwZA5IkZc4YkCQpc8aAJEmZMwYkScqcMSBJUuaMAUmSMld4DETE8yLiSxHxcEQ8FhG3R0R/\n0etKkqT6HFrkySPiWcDNwHeAVcDDQB+wo8h1JUlS/QqNAeAS4N6U0kUzjt1T8JqSJKkBRb9N8Brg\ntoi4OiK2RcRYRFw077MkSVLLFB0DJwHvAn4OnA18Hvh0RKwteF2pY516KixdWvtfSWqFot8mOAS4\nNaX0wemvb4+IFwMXA1860JOGhobo6enZ61ilUqFSqRS2UaldPPggPPBA2buQ1M6q1SrVanWvY1NT\nU02fL1JKB7unA5884m7gupTSO2Ycuxh4f0rp+Fke3w+Mjo6O0t/vDxwoT0uX1mLguOPg/vvL3o2k\nTjE2NsbAwADAQEpprJHnFv02wc3Ain2OrcCbCCVJahtFx8B64PSIuDQilkXEGuAi4LMFrytJkupU\naAyklG4D3gBUgB8D7wfWpZS+WuS6kiSpfkXfQEhKaQOwoeh1JElSc/zdBJIkZc4YkCQpc8aAJEmZ\nMwYkScqcMSBJUuaMAUmSMmcMSJKUOWNAkqTMGQOSJGXOGJAkKXPGgCRJmTMGJEnKnDEgSVLmjAFJ\nkjJnDEiSlDljQJKkzBkDkiRlzhiQJClzxoAkSZkzBiRJypwxIElS5owBSZIyZwxIkpQ5Y0CSpMwZ\nA5IkZc4YkCQpc8aAJEmZKzQGIuKyiNi9z5+fFbmmJElqzKEtWOMnwKuAmP76ty1YU5Ik1akVMfDb\nlNJDLVhHqtv4+Dhbt26lt7eXvr6+srcjSaVqxT0DfRHxQERsjYjhiDi+BWtKs9q+fTurV5/DihUr\nGBwcZPny5axefQ47duwoe2uSVJqiY2AzcCGwCrgY+F3gxog4ouB1pVmtWbOWTd++heoHzuR9gx/i\naYuuYNOmzVQq55e9NUkqTaExkFIaSSl9LaX0k5TSt4FBYAnw5iLXlWYzPj7OyMgG3jLwbo591Y2s\n/u+XUf3w3/Lkk59iZGQDExMTZW9RkkrRinsG9kgpTUXEONA71+OGhobo6enZ61ilUqFSqRS5PXW5\nrVu3ArDmrf9nz7Fvj1wAnAXA5OSk9w9I6gjVapVqtbrXsampqabP19IYiIgjqYXAVXM9bv369fT3\n97dmU8rGsmXLOO+05Rz+op8CsPPOZXzh+xcCtb9Qvb1zNqoktY3ZvkEeGxtjYGCgqfMV/TkDH4uI\nMyPixIj4D8A1wC6e+q+v1EK9vb1c8Pbde76+5so/YXeqsmjROlatGnQqIClbRU8GlgJfAY4CHgJu\nAk5PKT1S8LrSfu7b9A887QWTAOy88zi+8P0hAFauHKRaHS5za5JUqkJjIKXkm/xqC7t37+beBz8M\nJ9S+fvaiIf7vt17o5wxIEi2+Z0Aqy32b/oEnT/gxAPGLZfSf/184ZNGiknclSe3BX1SkrrdnKjDt\nuCMvNQQkaQZjQF1v36nASedcWO6GJKnNGAPqak4FJGl+xoC6mlMBSZqfMaCu5VRAkupjDKhrORWQ\npPoYA+pKTgUkqX7GgLqSUwFJqp8xoK7jVECSGmMMqOs4FZCkxhgD6ipOBSSpccaAuopTAUlqnDGg\nruFUQJKaYwyoazgVkKTmGAPqCk4FJKl5xoC6glMBSWqeMaCO51RAkg6OMaCO51RAkg6OMaCO5lRA\nkg6eMaCO5lRAkg6eMaCO5VRAkhaGMaCO5VRAkhaGMaCO5FRAkhaOMaCO5FRAkhaOMaCO41RAkhaW\nMaCO41RAkhaWMaCO4lRAkhZey2IgIi6JiN0R8YlWranu41RAkhZeS2IgIk4D3gHc3or11J2cCkhS\nMQqPgYg4EhgGLgJ+XfR66l5OBaR8jI+Pc+211zIxMVH2VrLQisnA54BvppSub8Fa6lJOBaQ8bN++\nndWrz2HFGacxODjI8uXLWb36HHbs2FH21rpaoTEQEW8BXgpcWuQ66n5OBaTu99hjcMYZw4zc9adw\n/CQ8/25gmE2bNlOpnF/29rraoUWdOCKWAp8EVqaUdhW1jrrfnqnACbWvnQpI3eGxx2B4GL72NRgd\nhUceScB7/u0Bz9wFZx/Hk9d9ipGRtUxMTNDX11fafrtZYTEADADPAcYiIqaPLQLOjIg/AZ6eUkqz\nPXFoaIienp69jlUqFSqVSoHbVbvabypw7oXlbkhSU/a/+O/7iNj7y0N3wvdOBx4CYHJy0hiYVq1W\nqVarex2bmppq+nxFxsAm4CX7HLsC2AJ89EAhALB+/Xr6+/sL3Jo6hVMBqXPNf/Hfx9GPw8t+Daf8\nGp77I/jAa2HnYuAGAHp7ewvfc6eY7RvksbExBgYGmjpfYTGQUnoU+NnMYxHxKPBISmlLUeuquzgV\nkDpHoxf/Qw6BE0+Eo16xhdte+StYmmrDgXtugXf+Dux8CLiBRYvWsXLloFOBAhU5GZjNAacB0r6c\nCkjtrdmL/5lnwgUXwCteAevvuJ73/nInLFoMwHMem+D3rr6J7zyxYc/zVq4cpFodLvDfRC2NgZTS\nH7ZyPXU2pwJSe1mIi/8hM36G7eM/2zsEjnl8K5P/aS1HDv4RExMTTE5O0tvb60SgBVo9GZDq4lRA\nKt9CX/xnmjUEXnUeRx5W+7qvr88IaCFjQG3JqYDUekVe/GeaLwTUesaA2o5TAak1WnXxn8kQaE/G\ngNqOUwGpGGVc/GcyBNqXMaC24lRAWjhlX/xnMgTamzGgtuJUQGpeO138ZzIE2p8xoLbhVEBqTLte\n/GcyBDqDMaC24VRAmlsnXPxnMgQ6hzGgtuBUQNpfp138ZzIEOosxoLbgVEDq7Iv/TIZA5zEGVDqn\nAspVt1z8ZzIEOpMxoNI5FVAuuvHiP5Mh0LmMAZXKqYC62b/8C3z5y/928d++fe7Hd9rFfyZDoLMZ\nAyqVUwF1k5wu/jMZAp3PGFBpnAqo0+V68Z/JEOgOxoBK41RAncaL/94Mge5hDKgUTgXUCbz4H5gh\n0F2MAZXCqYDakRf/+hgC3ccYUMs5FVC78OLfOEOgOxkDajmnAiqLF/+DYwh0L2NALeVUQK3kxX/h\nGALdzRhQSzkVUJG8+BfDEOh+xoBaxqmAFpoX/+IZAnkwBtQyTgV0sLz4t5YhkA9jQC3hVEDN8OJf\nHkMgL8aAWsKpgOrhxb89GAL5MQZUOKcCOhAv/u3HEMiTMaDCORXQU7z4tzdDIF+FxkBEXAy8C3j+\n9KGfAh9OKW0scl21D6cCefPi3zkMgbwVPRm4D3gfMAEEcCHw9Yh4aUppS8Frqw04Fegu4+PjbN26\nld7eXvr6+vb75178O5MhoEJjIKX0rX0OfSAi3gWcDhgDXc6pQPfYvn07a9asZWRkw55jq1YN8td/\nPcyGDUu8+HcwQ0DQwnsGIuIQ4M3A4cAtrVpX5XEq0D3WrFnLbdfdxIlcyj28F3ickZHFnHDCs+Z8\nnhf/9mYI6CmFx0BEvJjaxX8x8M/AG1JKdxS9rsrlVKB7jI+PMzKymSWMcA8vAY444GO9+HcOQ0Az\ntWIycAdwCtADvBG4KiLOnCsIhoaG6Onp2etYpVKhUqkUulEtHKcC3WPr1q0sYTu/5jnsGwKLeJSj\njwlWrz7ci38HMQQ6X7VapVqt7nVsamqq6fMVHgMppd8Cd05/+YOI+PfAOmo/ZTCr9evX09/fX/TW\nVBCnAt1l2bJlPA4cwx1s4+kkvgt8D/geu7mTVxy2lEvP/QIr/vDV5W5UdTEEusNs3yCPjY0xMDDQ\n1PnKaPhDgKeXsK5aZL+pwDkXlrshHZTly5dz5qpBtsV7eAbXcBZ/w7P5W+BOEvB399/PCwcHWXvS\nSfz82mvL3q7mYAjoQAqNgYj484g4IyJOjIgXR8RHgLOA4SLXVXn2TAWmORXoDtXqMGef/QIe4z3c\nwA08Afzno47mqAgAdgPDd91lFLQxQ0BzKXoy8FzgSmr3DWwCBoCzU0rXF7yuSuJUoDstWbKEjRu/\nxfj4OBs2bOAH4+P8/cMPcdf99/ORVauMgjZnCGg+hcZASumilNJJKaVnpJSOTSkZAl3MqUD36+vr\n49WvfvWeDxx65vOexyUbNxoFbcwQUD2871cLxqlAvoyC9mQIqF7GgBaEUwGBUdBODAE1whjQgnAq\noJmMgnIZAmqUMaCD5lRAB2IUtJ4hoGYYAzpoTgU0H6OgNQwBNcsY0EFxKqBGGAXFMQR0MIwBHRSn\nAmqGUbCwDAEdLGNATXMqoINlFBw8Q0ALwRhQ05wKaKEYBc0xBLRQjAE1xamAimAU1M8Q0EIyBtQU\npwIqklEwN0NAC80YUMOcCqhVjIL9GQIqgjGghjkVUKsZBTWGgIpiDKghTgVUppyjwBBQkYwBNcSp\ngNpBblFgCKhoxoDq5lRA7SaHKDAE1ArGgOrmVEDtqlujwBBQqxgDqotTAXWCbooCQ0CtZAyoLk4F\n1Ek6PQoMAbWaMaB5ORVQp+rEKDAEVAZjQPNyKqBO1ylRYAioLMaA5uRUQN2knaPAEFCZjAHNyamA\nulG7RYEhoLIZAzogpwLqdu0QBYaA2oExoANyKqBclBUFhoDahTGgWTkVUI5aGQWGgNqJMaBZORVQ\nzoqOAkNA7cYY0H6cCkg1RUSBIaB2VGgMRMSlEXFrRPwmIrZFxDURsbzINXXwnApIe1uoKDAE1K6K\nngycAXwG+H1gJXAYcF1EPKPgddUkpwLSgTUTBePj41x77bVccuPfGQJqW4XGQEppMKX0pZTSlpTS\nj4ELgROAgSLXVfOcCkjzqycK1px4Im8cOI0VK1Yw+Jn38xe7egwBta1W3zPwLCAB21u8rurgVEBq\nzFxRUL33Xq4Zu40XHX08vOnde0Lgab+8zRBQ22lZDEREAJ8Ebkop/axV66p+TgWk5swVBT99+D64\n6J3wuc/BPT9h59su5Zd331fuhqV9HNrCtS4HXgj8wXwPHBoaoqenZ69jlUqFSqVS0Na0ZypwQu1r\npwJS456KghcMD/PJtWvZvHgxTzz+OOzezbN/u4vt71wNT/wpk5OT9PX1lb1ddbBqtUq1Wt3r2NTU\nVNPni5TSwe5p/kUiPgu8BjgjpXTvHI/rB0ZHR0fp7+8vfF/6N/dc9/fc9bQ3AbWpwBnn/twYKMnS\npfDAA3DccXD//WXvRs0YHx9nxYoVHM6n+Hcrr+U3Pxpj947/x+O7bgTWMj4+bgxowY2NjTEwMAAw\nkFIaa+S5hb9NMB0CrwNeOVcIqDzeKyAtrOXLl7Nq1SBPLPoQD15f4bEdN/D4rhtZtGgdq1YNGgJq\nO0V/zsDlwHnAGuDRiDhm+o93zrQR7xWQFl61OszKlafD7rfCrpOBtaxceTrV6nDZW5P2U/Q9AxdT\n++mB7+1z/G3AVQWvrTp4r4BUjCVLlrBx47eYmJhgcnKS3t5eJwJqW4XGQErJjztuc/tNBc69sNwN\nSV2mr6/PCFDb82KdMe8VkCSBMZA17xWQJIExkC2nApKkpxgDmXIqIEl6ijGQIacCkqSZjIEMORWQ\nJM1kDGTGqYAkaV/GQGacCkiS9mUMZMSpgCRpNsZARpwKSJJmYwxkwqmAJOlAjIFMOBWQJB2IMZAB\npwKSpLkYAxlwKiBJmosx0OWcCkiS5mMMdDmnApKk+RgDXcypgCSpHsZAF3MqIEmqhzHQpZwKSJLq\nZQx0KacCkqR6GQNdyKmAJKkRxkAXciogSWqEMdBlnApIkhplDHQZpwKSpEYZA13EqYAkqRnGQBdx\nKiBJaoYx0CWcCkiSmmUMdAmnApKkZhUaAxFxRkR8IyIeiIjdEfHaItfLlVMBSdLBKHoycATwQ+Dd\nQCp4rWyNffWvnApIkppWaAyklDamlP5nSunrQBS5Vo62b9/O6lWD/GrHX+45tnnkBUz95jcl7kqS\n1Gm8Z6CDrVmzluf8+hcc/qK7Adh55/P54JdvoVI5v9yNSZI6ijHQocbHxxkZ2UDlgp17jl1z5QfY\n9eSnGBnZwMTERIm7kyR1kkPL3sBshoaG6Onp2etYpVKhUqmUtKP2s3XrVl50zNEsXvoLAHbeuYwv\nfP9CoPb15OQkfX19pe1PklScarVKtVrd69jU1FTT52vLGFi/fj39/f1lb6OtLVu2jJ9ue5g3Vf43\nf/b6cX5+9++xOy0CbgCgt7e33A1Kkgoz2zfIY2NjDAwMNHU+3yboUMuXL2fVqkGmdv4Zl1Rfwhdv\nORMYZtGidaxaNehUQJJUt6I/Z+CIiDglIl46feik6a+PL3LdXFSrw6xceTqwFjgBWMvKladTrQ6X\nvDNJUicp+m2CU4HvUvuMgQR8fPr4lcDbC1676y1ZsoSNG7/FxMQEk5OT9Pb2OhGQJDWs0BhIKd2A\nb0UUrq+vzwiQJDXNC7UkSZkzBiRJypwxIElS5owBSZIyZwxIkpQ5Y0CSpMwZA5IkZc4YkCQpc8aA\nJEmZMwYkScqcMSBJUuaMAUmSMmcMSJKUOWNAkqTMGQOSJGXOGJAkKXPGgCRJmTMGJEnKnDEgSVLm\njAFJkjJnDEiSlDljQJKkzBkDkiRlzhiQJClzxoAkSZkzBiRJypwxIElS5gqPgYj444i4KyL+NSI2\nR8RpRa8pSZLqV2gMRMS5wMeBy4CXAbcDIxFxdJHrSpKk+hU9GRgC/iqldFVK6Q7gYuAx4O0FrytJ\nkupUWAxExGHAAPCdp46llBKwCXh5UetKkqTGFDkZOBpYBGzb5/g24NgC15UkSQ3wpwkkScrcoQWe\n+2HgSeCYfY4fAzw41xOHhobo6enZ61ilUqFSqSzoBiVJ6kTVapVqtbrXsampqabPF7W38YsREZuB\nf0oprZv+OoB7gU+nlD42y+P7gdHR0VH6+/sL25fUzk49FR58EI49Fm67rezdSOoUY2NjDAwMAAyk\nlMYaeW6RkwGATwBXRMQocCu1ny44HLii4HWljmUASGq1QmMgpXT19GcKfJja2wM/BFallB4qcl1J\nklS/oicDpJQuBy4veh1JktQcf5pAkqTMGQOSJGXOGJAkKXPGgCRJmTMGJEnKnDEgSVLmjAFJkjJn\nDEiSlDljQJKkzBkDkiRlzhiQJClzxoAkSZkzBiRJypwxIElS5owBSZIyZwxIkpQ5Y0CSpMwZA5Ik\nZc4YkCQpc8aAJEmZMwYkScqcMSBJUuaMAUmSMmcMSJKUOWNAkqTMGQOSJGXOGJAkKXPGQJeoVqtl\nb6Hj+Jo1x9etcb5mzfF1a53CYiAi/kdE3BwRj0bE9qLWUY1/aRrna9YcX7fG+Zo1x9etdYqcDBwG\nXA18vsA1JEnSQTq0qBOnlD4EEBFvLWoNSZJ08LxnQJKkzBU2GWjSYoAtW7aUvY+OMzU1xdjYWNnb\n6Ci+Zs3xdWucr1lzfN0aM+PaubjR50ZKqf4HR3wEeN8cD0nAySml8RnPeSuwPqX07DrOvwb4ct0b\nkiRJ+zovpfSVRp7Q6GTgfwFfnOcxdzZ4zplGgPOAu4HHD+I8kiTlZjHwfGrX0oY0FAMppUeARxpd\npMHzN1QzkiRpj39s5kmF3TMQEccDzwZOBBZFxCnT/2gypfRoUetKkqTGNHTPQEMnjvgicMEs/+iV\nKaUbC1lUkiQ1rLAYkCRJncHPGZAkKXPGgCRJmWubGIiIP46IuyLiXyNic0ScVvae2l1EnBER34iI\nByJid0S8tuw9tbuIuDQibo2I30TEtoi4JiKWl72vdhYRF0fE7RExNf3nHyNiddn76iQRccn039FP\nlL2XdhYRl02/TjP//KzsfXWCiHheRHwpIh6OiMem/8721/v8toiBiDgX+DhwGfAy4HZgJCKOLnVj\n7e8I4IfAu6l94JPmdwbwGeD3gZXUfqHWdRHxjFJ31d7uo/ZhY/3AAHA98PWIOLnUXXWI6W9s3kHt\nv2ua30+AY4Bjp//8x3K30/4i4lnAzcATwCrgZOC/ATvqPkc73EAYEZuBf0oprZv+Oqj9B+jTKaW/\nLHVzHSIidgOvTyl9o+y9dJLp4PwVcGZK6aay99MpIuIR4L0ppfk+hCxrEXEkMAq8C/gg8IOU0n8t\nd1ftKyIuA16XUqr7O1pBRHwUeHlK6axmz1H6ZCAiDqP23cZ3njqWaoWyCXh5WftSNp5FbaqyveyN\ndIKIOCQi3gIcDtxS9n46wOeAb6aUri97Ix2kb/qtz60RMTz9mTWa22uA2yLi6um3P8ci4qJGTlB6\nDABHA4uAbfsc30ZtRCQVYnoC9UngppSS70vOISJeHBH/TG0MeTnwhpTSHSVvq61NR9NLgUvL3ksH\n2QxcSG3UfTHwu8CNEXFEmZvqACdRmz79HDgb+Dzw6YhYW+8J2u23FkqtdDnwQuAPyt5IB7gDOAXo\nAd4IXBURZxoEs4uIpdRCc2VKaVfZ++kUKaWZn6n/k4i4FbgHeDPz/16cnB0C3JpS+uD017dHxIup\nBdWX6j1B2R4GnqR2w8hMxwAPtn47ykFEfBYYBF6RUvpl2ftpdyml36aU7kwp/SCl9H5qN8OtK3tf\nbWwAeA4wFhG7ImIXcBawLiJ2Tk+lNI+U0hQwDvSWvZc290tgyz7HtgAn1HuC0mNguppHgVc9dWz6\nL8qraPIXLkhzmQ6B11H7aOx7y95PhzoEeHrZm2hjm4CXUHub4JTpP7cBw8ApqR3u3O4A0zdg9lK7\n2OnAbgZW7HNsBbWpSl3a5W2CTwBXRMQocCswRO0GpSvK3FS7m34frRd46ruMk6Z/IdT2lNJ95e2s\nfUXE5UAFeC3waEQ8NZGaSin5a7NnERF/DlwL3As8k9qvGT+L2nuTmsX0L2Pb6z6UiHgUeCSltO93\ncJoWER8DvkntInYc8CFgF1Atc18dYD1wc0RcClxN7UenLwL+qN4TtEUMpJSunv4Rrw9Te3vgh8Cq\nlNJD5e6s7Z0KfJfa3fCJ2mc1AFwJvL2sTbW5i6m9Vt/b5/jbgKtavpvO8Fxq/5/6HWAK+BFwtnfI\nN8xpwPyWUvs19kcBDwE3AadP/3p7HUBK6baIeAPwUWo/wnoXsC6l9NV6z9EWnzMgSZLKU/o9A5Ik\nqVzGgCRJmTMGJEnKnDEgSVLmjAFJkjJnDEiSlDljQJKkzBkDkiRlzhiQJClzxoAkSZkzBiRJytz/\nB0BAdNKlp69cAAAAAElFTkSuQmCC\n",
      "text/plain": [
       "<matplotlib.figure.Figure at 0x246e25aacc0>"
      ]
     },
     "metadata": {},
     "output_type": "display_data"
    },
    {
     "name": "stdout",
     "output_type": "stream",
     "text": [
      "Second separation\n"
     ]
    },
    {
     "data": {
      "image/png": "iVBORw0KGgoAAAANSUhEUgAAAgMAAAFkCAYAAAC9wjgoAAAABHNCSVQICAgIfAhkiAAAAAlwSFlz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\nc8aAJEmZMwYkScrc/wdHIwq12plqPQAAAABJRU5ErkJggg==\n",
      "text/plain": [
       "<matplotlib.figure.Figure at 0x246e37d6d68>"
      ]
     },
     "metadata": {},
     "output_type": "display_data"
    },
    {
     "name": "stdout",
     "output_type": "stream",
     "text": [
      "Third separation\n"
     ]
    },
    {
     "data": {
      "image/png": "iVBORw0KGgoAAAANSUhEUgAAAgMAAAFkCAYAAAC9wjgoAAAABHNCSVQICAgIfAhkiAAAAAlwSFlz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\n/1KEiJSdzdA5AAAAAElFTkSuQmCC\n",
      "text/plain": [
       "<matplotlib.figure.Figure at 0x246e374bfd0>"
      ]
     },
     "metadata": {},
     "output_type": "display_data"
    }
   ],
   "source": [
    "#my x and y axes are flipped -- pls forgive!\n",
    "\n",
    "print(\"First separation\")\n",
    "graph = make_graph(points)\n",
    "draw(graph, 2.5, 0)\n",
    "plot(points,graph,[2.5],[])\n",
    "\n",
    "print(\"Second separation\")\n",
    "draw(graph, 3.5, 0)\n",
    "plot(points,graph,[2.5,3.5],[])\n",
    "\n",
    "print(\"Third separation\")\n",
    "draw(graph, 2.5, 1)\n",
    "plot(points,graph,[2.5,3.5],[2.5])"
   ]
  },
  {
   "cell_type": "markdown",
   "metadata": {},
   "source": [
    "There's a lot of ways to draw the lines. In the prof's paper, he said that the optimal number of lines to draw is 2*sqrt(n)-2 (n=number of points). \n",
    "\n",
    "My algorithm (local solution) does this:\n",
    "1. Gets all vertical lines that can be drawn between the leftmost point and rightmost point and all horizontal lines that can be drawn between the topmost point and bottommost point\n",
    "2. Initializes the graph representation shown above\n",
    "3. Calculates the number of lines drawn in an optimal solution\n",
    "4. For every order/combination of horizontal and vertical lines to be drawn\n",
    "    While the graph is still connected at any point:\n",
    "        draw a line (alternate vertical and horizontal)\n",
    "        update graph\n",
    "    if the number of lines drawn is less than or equal to the optimal number:\n",
    "        return the current lines drawn\n",
    "    if the number of lines drawn is greater than optimal, but still better than anything we have seen:\n",
    "        update the best_lines_drawn variables\n",
    "5. If you never get an optimal solution, return the best one you found."
   ]
  },
  {
   "cell_type": "code",
<<<<<<< HEAD
   "execution_count": 66,
=======
   "execution_count": null,
>>>>>>> cdc93a0cd31c22cef8aba7cace1010e6e2a034aa
   "metadata": {
    "collapsed": false
   },
   "outputs": [
    {
     "name": "stdout",
     "output_type": "stream",
     "text": [
      "((1.5, 0), (2.5, 0))\n",
      "((1.5, 0), (3.5, 0))\n",
      "((1.5, 0), (4.5, 0))\n",
      "((2.5, 0), (3.5, 0))\n",
      "((2.5, 0), (4.5, 0))\n",
      "((3.5, 0), (4.5, 0))\n"
     ]
    }
   ],
   "source": [
    "x,y = get_all_possible(points)\n",
    "r = get_combinations(x)\n",
    "for item in r:\n",
    "    print(item)"
   ]
  },
  {
   "cell_type": "code",
   "execution_count": 169,
   "metadata": {
    "collapsed": false
   },
   "outputs": [
    {
     "name": "stdout",
     "output_type": "stream",
     "text": [
      "CALL TO SEGMENT: [(1.5, 0), (2.5, 0), (3.5, 0), (4.5, 0)]\n",
      "Line (1.5, 1) Test Graph pmap({(2, 2): [(1, 1), (3, 3)], (1, 1): [(2, 2), (3, 3)], (4, 4): [], (5, 5): [], (3, 3): [(1, 1), (2, 2)]})\n",
      "should be a loser\n",
      "Line (2.5, 1) Test Graph pmap({(2, 2): [(3, 3)], (1, 1): [], (4, 4): [], (5, 5): [], (3, 3): [(2, 2)]})\n"
     ]
    },
    {
     "ename": "NameError",
     "evalue": "name 'test_graph_2' is not defined",
     "output_type": "error",
     "traceback": [
      "\u001b[0;31m---------------------------------------------------------------------------\u001b[0m",
      "\u001b[0;31mNameError\u001b[0m                                 Traceback (most recent call last)",
      "\u001b[0;32m<ipython-input-169-0b5458fe7b90>\u001b[0m in \u001b[0;36m<module>\u001b[0;34m()\u001b[0m\n\u001b[1;32m     41\u001b[0m     \u001b[0;32mreturn\u001b[0m\u001b[0;34m(\u001b[0m\u001b[0minitial_lines\u001b[0m\u001b[0;34m,\u001b[0m\u001b[0mlines_drawn\u001b[0m\u001b[0;34m)\u001b[0m\u001b[0;34m\u001b[0m\u001b[0m\n\u001b[1;32m     42\u001b[0m \u001b[0;34m\u001b[0m\u001b[0m\n\u001b[0;32m---> 43\u001b[0;31m \u001b[0msegment\u001b[0m\u001b[0;34m(\u001b[0m\u001b[0mil\u001b[0m\u001b[0;34m,\u001b[0m\u001b[0mpl\u001b[0m\u001b[0;34m,\u001b[0m\u001b[0mgraph\u001b[0m\u001b[0;34m)\u001b[0m\u001b[0;34m\u001b[0m\u001b[0m\n\u001b[0m",
      "\u001b[0;32m<ipython-input-169-0b5458fe7b90>\u001b[0m in \u001b[0;36msegment\u001b[0;34m(initial_lines, possible_lines, graph)\u001b[0m\n\u001b[1;32m     36\u001b[0m                 \u001b[0mcurrent_lines\u001b[0m\u001b[0;34m.\u001b[0m\u001b[0mappend\u001b[0m\u001b[0;34m(\u001b[0m\u001b[0mline\u001b[0m\u001b[0;34m)\u001b[0m\u001b[0;34m\u001b[0m\u001b[0m\n\u001b[1;32m     37\u001b[0m                 \u001b[0;31m#print(\"CURRENT LINES DRAWN:\",current_lines)\u001b[0m\u001b[0;34m\u001b[0m\u001b[0;34m\u001b[0m\u001b[0m\n\u001b[0;32m---> 38\u001b[0;31m                 \u001b[0mplot\u001b[0m\u001b[0;34m(\u001b[0m\u001b[0mpoints\u001b[0m\u001b[0;34m,\u001b[0m\u001b[0mtest_graph_2\u001b[0m\u001b[0;34m,\u001b[0m\u001b[0mcurrent_lines\u001b[0m\u001b[0;34m)\u001b[0m\u001b[0;34m\u001b[0m\u001b[0m\n\u001b[0m\u001b[1;32m     39\u001b[0m                 \u001b[0msegment\u001b[0m\u001b[0;34m(\u001b[0m\u001b[0mcurrent_lines\u001b[0m\u001b[0;34m,\u001b[0m\u001b[0mp_lines\u001b[0m\u001b[0;34m,\u001b[0m\u001b[0mtest_graph_2\u001b[0m\u001b[0;34m)\u001b[0m\u001b[0;34m\u001b[0m\u001b[0m\n\u001b[1;32m     40\u001b[0m             \u001b[0mprint\u001b[0m\u001b[0;34m(\u001b[0m\u001b[0;34m\"should be a loser\"\u001b[0m\u001b[0;34m)\u001b[0m\u001b[0;34m\u001b[0m\u001b[0m\n",
      "\u001b[0;31mNameError\u001b[0m: name 'test_graph_2' is not defined"
     ]
    }
   ],
   "source": [
    "#segment points\n",
    "\n",
    "vl,hl = get_all_possible(points)\n",
    "graph = pmap(make_empty_graph(points))\n",
    "lines_drawn = []\n",
    "OPT = math.ceil(math.sqrt(len(points))*2)-2\n",
    "\n",
    "il = vl\n",
    "pl = hl\n",
    "def segment(initial_lines,possible_lines,graph):\n",
    "    print(\"CALL TO SEGMENT:\",initial_lines)\n",
    "    #print(\"POSSIBLE LINES:\",possible_lines)\n",
    "    #initial_lines is the arbitrary solution\n",
    "    \n",
<<<<<<< HEAD
    "    #get all combinations of pairs to remove (WORKS)\n",
    "    x = get_combinations(initial_lines)\n",
=======
    "    #plot(points,graph,[],[])\n",
    "    for x_lines_perm in get_permutations(all_x_lines):\n",
    "        for y_lines_perm in get_permutations(all_y_lines):\n",
    "            graph = make_graph(points)\n",
    "            total_lines_drawn = 0\n",
    "            S = []\n",
    "            vh = []\n",
    "            x_lines_drawn = []\n",
    "            y_lines_drawn = []\n",
    "            idx = 0\n",
    "            look_at_x = True\n",
    "            \n",
    "            while nodes_left(graph):\n",
    "                if look_at_x:\n",
    "                    line = x_lines_perm[idx]\n",
    "                    graph = draw(graph, line, 0)\n",
    "                    x_lines_drawn.append(line)\n",
    "                    S.append(line)\n",
    "                    vh.append(0)\n",
    "                    look_at_x = False\n",
    "                else:\n",
    "                    line = y_lines_perm[idx]\n",
    "                    graph = draw(graph, line, 1)\n",
    "                    y_lines_drawn.append(line)\n",
    "                    S.append(line)\n",
    "                    vh.append(1)\n",
    "                    look_at_x = True\n",
    "                    idx+=1\n",
    "                total_lines_drawn+=1\n",
    "            \n",
    "            if total_lines_drawn<=OPT:\n",
    "                return (graph,S,vh,total_lines_drawn,x_lines_drawn,y_lines_drawn)\n",
    "            if total_lines_drawn<best:\n",
    "                best = total_lines_drawn\n",
    "                best_x_drawn = x_lines_drawn\n",
    "                best_y_drawn = y_lines_drawn           \n",
>>>>>>> cdc93a0cd31c22cef8aba7cace1010e6e2a034aa
    "    \n",
    "    if len(lines_drawn)+len(initial_lines) == OPT:\n",
    "        return(initial_lines,lines_drawn)\n",
    "    for pair in x:\n",
    "        #set a temp variable so you can update current lines\n",
    "        current_lines = initial_lines\n",
    "        #remove both lines of the pair\n",
    "        test_graph = pmap(erase(graph,pair[0][0],current_lines,pair[0][1]))\n",
    "        current_lines.remove(pair[0])\n",
    "        test_graph = pmap(erase(test_graph,pair[1][0],current_lines,pair[1][1]))\n",
    "        current_lines.remove(pair[1])\n",
    "        for line in possible_lines:\n",
    "            print(\"Line\",line,\"Test Graph\",test_graph)\n",
    "            #MY PROBLEM IS THAT THE TEST GRAPH DOESN'T PERSIST for each possible line! IF THIS WORKS, THE ALGORITHM WILL WORK\n",
    "            test_graph_2 = draw(test_graph,line[0],line[1])\n",
    "            #print(\"GRAPH AFTER DRAW:\",test_graph_2)\n",
    "            if not nodes_left(draw(test_graph,line[0],line[1])):\n",
    "                p_lines = copy.copy(possible_lines)\n",
    "                p_lines.remove(line)\n",
    "                current_lines.append(line)\n",
    "                #print(\"CURRENT LINES DRAWN:\",current_lines)\n",
    "                plot(points,test_graph_2,current_lines)\n",
    "                segment(current_lines,p_lines,test_graph_2)\n",
    "            print(\"should be a loser\")\n",
    "    return(initial_lines,lines_drawn)\n",
    "        \n",
    "segment(il,pl,graph)"
   ]
  },
  {
   "cell_type": "code",
<<<<<<< HEAD
   "execution_count": 8,
   "metadata": {
    "collapsed": false
   },
   "outputs": [
    {
     "name": "stdout",
     "output_type": "stream",
     "text": [
      "[1.5, 3.5]\n",
      "[3.5]\n"
     ]
    },
    {
     "data": {
      "image/png": "iVBORw0KGgoAAAANSUhEUgAAAXMAAAEACAYAAABBDJb9AAAABHNCSVQICAgIfAhkiAAAAAlwSFlz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\nIAOEOQBkgDAHgAz8P9BwZ7d7E0hXAAAAAElFTkSuQmCC\n",
      "text/plain": [
       "<matplotlib.figure.Figure at 0x105d48240>"
      ]
     },
     "metadata": {},
     "output_type": "display_data"
    }
   ],
=======
   "execution_count": null,
   "metadata": {
    "collapsed": false
   },
   "outputs": [],
>>>>>>> cdc93a0cd31c22cef8aba7cace1010e6e2a034aa
   "source": [
    "# Show final solution\n",
    "graph,S,vh,total_lines,x_lines,y_lines = segment(points)\n",
    "print(x_lines)\n",
    "print(y_lines)\n",
    "plot(points,graph,x_lines,y_lines)"
   ]
  },
  {
   "cell_type": "code",
<<<<<<< HEAD
   "execution_count": 12,
   "metadata": {
    "collapsed": false
   },
   "outputs": [
    {
     "name": "stdout",
     "output_type": "stream",
     "text": [
      "3\n",
      "{1.5: 0, 3.5: 0}\n",
      "v  1.5\n",
      "v  3.5\n",
      "v  3.5\n"
     ]
    }
   ],
   "source": [
    "# Project output\n",
    "print (total_lines)\n",
    "print(vh)\n",
    "for line in S:\n",
    "    if (vh[line] == 0):\n",
    "        print (\"v \", line)\n",
    "    else:\n",
    "        print (\"h \", line) # for some reason this isn't working properly in yours!!! idk..."
=======
   "execution_count": null,
   "metadata": {
    "collapsed": false
   },
   "outputs": [],
   "source": [
    "# Project output\n",
    "print (total_lines)\n",
    "for i in range (0,len(S)):\n",
    "    if (vh[i] == 0):\n",
    "        print (\"v \", S[i])\n",
    "    elif (vh[i] == 1):\n",
    "        print (\"h \", S[i])"
>>>>>>> cdc93a0cd31c22cef8aba7cace1010e6e2a034aa
   ]
  }
 ],
 "metadata": {
  "anaconda-cloud": {},
  "kernelspec": {
   "display_name": "Python 3",
   "language": "python",
   "name": "python3"
  },
  "language_info": {
   "codemirror_mode": {
    "name": "ipython",
    "version": 3
   },
   "file_extension": ".py",
   "mimetype": "text/x-python",
   "name": "python",
   "nbconvert_exporter": "python",
   "pygments_lexer": "ipython3",
   "version": "3.5.1"
  }
 },
 "nbformat": 4,
 "nbformat_minor": 0
}
