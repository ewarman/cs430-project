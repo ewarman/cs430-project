{
 "cells": [
  {
   "cell_type": "code",
   "execution_count": 50,
   "metadata": {
    "collapsed": true
   },
   "outputs": [],
   "source": [
    "##########################\n",
    "# CS 430 Final Project\n",
    "# Emily Warman, Rachael Affenit\n",
    "# Local Approach\n",
    "##########################\n",
    "\n",
    "import os\n",
    "import copy\n",
    "import itertools\n",
    "import matplotlib.pyplot as plt\n",
    "import math"
   ]
  },
  {
   "cell_type": "code",
   "execution_count": 51,
   "metadata": {
    "collapsed": false
   },
   "outputs": [],
   "source": [
    "##########################\n",
    "# Helper Functions\n",
    "##########################\n",
    "\n",
    "#define plot function\n",
    "%matplotlib inline\n",
    "def plot(points,graph,x_lines,y_lines):\n",
    "    plt.scatter(*zip(*points))\n",
    "    axes = plt.gca()\n",
    "    #plot lines drawn\n",
    "    for line in x_lines:\n",
    "        plt.plot([line, line],[0,6], color='b', linestyle='-',linewidth=2)\n",
    "    for line in y_lines:\n",
    "        plt.plot([0,6],[line,line], color='b', linestyle='-', linewidth=2)\n",
    "    #plot remaining\n",
    "    for point in graph.keys():\n",
    "        for p2 in graph[point]:\n",
    "            plt.plot([point[0], p2[0]], [point[1], p2[1]], linestyle='-', linewidth=2)\n",
    "    plt.show()\n",
    "\n",
    "#get all permutations of a list of possible lines\n",
    "def get_permutations(lines):\n",
    "    return itertools.permutations(lines)\n",
    "\n",
    "#make a list of possible lines (range function that takes floats)\n",
    "def drange(x, y, jump):\n",
    "    r=[]\n",
    "    while x < y:\n",
    "        r.append(float(x))\n",
    "        x += jump\n",
    "    return r\n",
    "\n",
    "#create lists of possible points (min x to max x, min y to max y)\n",
    "def get_all_possible(points):\n",
    "    x_sort = sorted(points, key=lambda x: x[0])\n",
    "    y_sort = sorted(points, key=lambda x: x[1])\n",
    "    x_min = x_sort[0][0]\n",
    "    x_max = x_sort[-1][0]\n",
    "    y_min = y_sort[0][1]\n",
    "    y_max = y_sort[-1][1]\n",
    "    \n",
    "    return (drange(x_min+.5,x_max+.5,1), drange(y_min+.5,y_max+.5,1))\n",
    "\n",
    "#make a graph of all possible graph points\n",
    "def make_graph(points):\n",
    "    initial_graph = dict.fromkeys(points)\n",
    "    for point in initial_graph.keys():\n",
    "        c_copy = copy.copy(points)\n",
    "        c_copy.remove(point)\n",
    "        initial_graph[point] = c_copy\n",
    "    return initial_graph\n",
    "\n",
    "#draw a new parallel line to separate points\n",
    "def draw(graph, line, idx):\n",
    "    left = []\n",
    "    right = []\n",
    "    #mark points left and right (or above and below) the line to be drawn\n",
    "    for point in graph.keys():\n",
    "        if point[idx]<line:\n",
    "            left.append(point)\n",
    "        if point[idx]>line:\n",
    "            right.append(point)\n",
    "    #separate the points\n",
    "    for point in graph.keys():\n",
    "        if point in left:\n",
    "            for p2 in right:\n",
    "                if p2 in graph[point]:\n",
    "                    graph[point].remove(p2)\n",
    "        if point in right:\n",
    "            for p2 in left:\n",
    "                if p2 in graph[point]:\n",
    "                    graph[point].remove(p2)\n",
    "    return graph\n",
    "\n",
    "def nodes_left(graph):\n",
    "    for point in graph.keys():\n",
    "        if graph[point]!=[]:\n",
    "            return True\n",
    "    return False"
   ]
  },
  {
   "cell_type": "code",
   "execution_count": null,
   "metadata": {
    "collapsed": false
   },
   "outputs": [],
   "source": [
    "##########################\n",
    "# Main Program: Import Data\n",
    "##########################\n",
    "filename = os.getcwd()+'/input/'\n",
    "points = []\n",
    "with open(filename+'instance01.txt', 'r') as f:\n",
    "    inpt = f.readlines()\n",
    "    for point in inpt[1:]:\n",
    "        point = point.split(' ')\n",
    "        points.append(((int(point[0])),(int(point[1]))))"
   ]
  },
  {
   "cell_type": "markdown",
   "metadata": {},
   "source": [
    "SEPARATING POINTS BY AXIS-PARALLEL LINES\n",
    "\n",
    "Think about the points given as vertices of a graph. Imagine that when there are no lines drawn, no points are separated from each other. The graph is fully connected.\n",
    "\n",
    "The figure below represents the example input as a fully connected graph"
   ]
  },
  {
   "cell_type": "code",
   "execution_count": null,
   "metadata": {
    "collapsed": false
   },
   "outputs": [],
   "source": [
    "plot(points,make_graph(points),[],[])"
   ]
  },
  {
   "cell_type": "markdown",
   "metadata": {},
   "source": [
    "When a vertical line is drawn between the points, the connections between the points to the left of the line and right (or top and bottom if horizontal) of the line are broken. When there are no edges in the graph, each point is fully separated from its neighbors. See example below:"
   ]
  },
  {
   "cell_type": "code",
   "execution_count": 15,
   "metadata": {
    "collapsed": false
   },
   "outputs": [
    {
     "name": "stdout",
     "output_type": "stream",
     "text": [
      "First separation\n"
     ]
    },
    {
     "data": {
      "image/png": "[encoded data removed]",
      "text/plain": [
       "<matplotlib.figure.Figure at 0x246e25aacc0>"
      ]
     },
     "metadata": {},
     "output_type": "display_data"
    },
    {
     "name": "stdout",
     "output_type": "stream",
     "text": [
      "Second separation\n"
     ]
    },
    {
     "data": {
      "image/png": "[encoded data removed]",
      "text/plain": [
       "<matplotlib.figure.Figure at 0x246e37d6d68>"
      ]
     },
     "metadata": {},
     "output_type": "display_data"
    },
    {
     "name": "stdout",
     "output_type": "stream",
     "text": [
      "Third separation\n"
     ]
    },
    {
     "data": {
      "image/png": "[encoded data removed]",
      "text/plain": [
       "<matplotlib.figure.Figure at 0x246e374bfd0>"
      ]
     },
     "metadata": {},
     "output_type": "display_data"
    }
   ],
   "source": [
    "#my x and y axes are flipped -- pls forgive!\n",
    "\n",
    "print(\"First separation\")\n",
    "graph = make_graph(points)\n",
    "draw(graph, 2.5, 0)\n",
    "plot(points,graph,[2.5],[])\n",
    "\n",
    "print(\"Second separation\")\n",
    "draw(graph, 3.5, 0)\n",
    "plot(points,graph,[2.5,3.5],[])\n",
    "\n",
    "print(\"Third separation\")\n",
    "draw(graph, 2.5, 1)\n",
    "plot(points,graph,[2.5,3.5],[2.5])"
   ]
  },
  {
   "cell_type": "markdown",
   "metadata": {},
   "source": [
    "There's a lot of ways to draw the lines. In the prof's paper, he said that the optimal number of lines to draw is 2*sqrt(n)-2 (n=number of points). \n",
    "\n",
    "My algorithm (local solution) does this:\n",
    "1. Gets all vertical lines that can be drawn between the leftmost point and rightmost point and all horizontal lines that can be drawn between the topmost point and bottommost point\n",
    "2. Initializes the graph representation shown above\n",
    "3. Calculates the number of lines drawn in an optimal solution\n",
    "4. For every order/combination of horizontal and vertical lines to be drawn\n",
    "    While the graph is still connected at any point:\n",
    "        draw a line (alternate vertical and horizontal)\n",
    "        update graph\n",
    "    if the number of lines drawn is less than or equal to the optimal number:\n",
    "        return the current lines drawn\n",
    "    if the number of lines drawn is greater than optimal, but still better than anything we have seen:\n",
    "        update the best_lines_drawn variables\n",
    "5. If you never get an optimal solution, return the best one you found."
   ]
  },
  {
   "cell_type": "code",
   "execution_count": null,
   "metadata": {
    "collapsed": false
   },
   "outputs": [],
   "source": [
    "#segment points\n",
    "def segment(points):\n",
    "    all_x_lines,all_y_lines = get_all_possible(points)\n",
    "    graph = make_graph(points)\n",
    "    OPT = math.ceil(math.sqrt(len(points))*2)-2\n",
    "    best = len(points)\n",
    "    best_x_drawn = None\n",
    "    best_y_drawn = None\n",
    "    \n",
    "    #plot(points,graph,[],[])\n",
    "    for x_lines_perm in get_permutations(all_x_lines):\n",
    "        for y_lines_perm in get_permutations(all_y_lines):\n",
    "            graph = make_graph(points)\n",
    "            total_lines_drawn = 0\n",
    "            S = []\n",
    "            vh = []\n",
    "            x_lines_drawn = []\n",
    "            y_lines_drawn = []\n",
    "            idx = 0\n",
    "            look_at_x = True\n",
    "            \n",
    "            while nodes_left(graph):\n",
    "                if look_at_x:\n",
    "                    line = x_lines_perm[idx]\n",
    "                    graph = draw(graph, line, 0)\n",
    "                    x_lines_drawn.append(line)\n",
    "                    S.append(line)\n",
    "                    vh.append(0)\n",
    "                    look_at_x = False\n",
    "                else:\n",
    "                    line = y_lines_perm[idx]\n",
    "                    graph = draw(graph, line, 1)\n",
    "                    y_lines_drawn.append(line)\n",
    "                    S.append(line)\n",
    "                    vh.append(1)\n",
    "                    look_at_x = True\n",
    "                    idx+=1\n",
    "                total_lines_drawn+=1\n",
    "            \n",
    "            if total_lines_drawn<=OPT:\n",
    "                return (graph,S,vh,total_lines_drawn,x_lines_drawn,y_lines_drawn)\n",
    "            if total_lines_drawn<best:\n",
    "                best = total_lines_drawn\n",
    "                best_x_drawn = x_lines_drawn\n",
    "                best_y_drawn = y_lines_drawn           \n",
    "    \n",
    "    return(graph,S,vh,total_lines_drawn,best_x_drawn,best_y_drawn)\n",
    "\n"
   ]
  },
  {
   "cell_type": "code",
   "execution_count": null,
   "metadata": {
    "collapsed": false
   },
   "outputs": [],
   "source": [
    "# Show final solution\n",
    "graph,S,vh,total_lines,x_lines,y_lines = segment(points)\n",
    "print(x_lines)\n",
    "print(y_lines)\n",
    "plot(points,graph,x_lines,y_lines)"
   ]
  },
  {
   "cell_type": "code",
   "execution_count": null,
   "metadata": {
    "collapsed": false
   },
   "outputs": [],
   "source": [
    "# Project output\n",
    "print (total_lines)\n",
    "for i in range (0,len(S)):\n",
    "    if (vh[i] == 0):\n",
    "        print (\"v \", S[i])\n",
    "    elif (vh[i] == 1):\n",
    "        print (\"h \", S[i])"
   ]
  },
  {
   "cell_type": "code",
   "execution_count": null,
   "metadata": {
    "collapsed": true
   },
   "outputs": [],
   "source": []
  }
 ],
 "metadata": {
  "anaconda-cloud": {},
  "kernelspec": {
   "display_name": "Python [default]",
   "language": "python",
   "name": "python3"
  },
  "language_info": {
   "codemirror_mode": {
    "name": "ipython",
    "version": 3
   },
   "file_extension": ".py",
   "mimetype": "text/x-python",
   "name": "python",
   "nbconvert_exporter": "python",
   "pygments_lexer": "ipython3",
   "version": "3.5.2"
  }
 },
 "nbformat": 4,
 "nbformat_minor": 0
}
