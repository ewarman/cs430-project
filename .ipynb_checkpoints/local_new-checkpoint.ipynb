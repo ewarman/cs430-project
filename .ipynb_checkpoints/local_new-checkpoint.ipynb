{
 "cells": [
  {
   "cell_type": "code",
   "execution_count": 1,
   "metadata": {
    "collapsed": true
   },
   "outputs": [],
   "source": [
    "##########################\n",
    "# CS 430 Final Project\n",
    "# Emily Warman, Rachael Affenit\n",
    "# Local Approach\n",
    "##########################\n",
    "\n",
    "import os\n",
    "import copy\n",
    "import itertools\n",
    "import matplotlib.pyplot as plt\n",
    "import math"
   ]
  },
  {
   "cell_type": "code",
   "execution_count": 2,
   "metadata": {
    "collapsed": false
   },
   "outputs": [],
   "source": [
    "%matplotlib inline\n",
    "\n",
    "def plot(points,lines):\n",
    "    plt.scatter(*zip(*points))\n",
    "    axes = plt.gca()\n",
    "    #plot lines drawn\n",
    "    for line in lines:\n",
    "        if line[1]==0:\n",
    "            plt.plot([line[0], line[0]],[0,len(points)], color='b', linestyle='-',linewidth=2)\n",
    "        else:\n",
    "            plt.plot([0,len(points)],[line[0],line[0]], color='b', linestyle='-', linewidth=2)\n",
    "    plt.show()\n",
    "    \n",
    "#get all permutations of a list of possible lines\n",
    "def get_combinations(lines):\n",
    "    return itertools.combinations(lines,2)\n",
    "\n",
    "#make a list of possible lines (range function that takes floats)\n",
    "def drange(x, y, jump):\n",
    "    r=[]\n",
    "    while x < y:\n",
    "        r.append(float(x))\n",
    "        x += jump\n",
    "    return r\n",
    "\n",
    "#create lists of possible points (min x to max x, min y to max y)\n",
    "#O(nlogn)\n",
    "def get_all_possible(points):\n",
    "    x_sort = sorted(points, key=lambda x: x[0])\n",
    "    y_sort = sorted(points, key=lambda x: x[1])\n",
    "    x_min = x_sort[0][0]\n",
    "    x_max = x_sort[-1][0]\n",
    "    y_min = y_sort[0][1]\n",
    "    y_max = y_sort[-1][1]\n",
    "    x = [0]*len(x_sort)\n",
    "    y = [1]*len(y_sort)\n",
    "    \n",
    "    return (list(zip(drange(x_min+.5,x_max+.5,1),x))), (list(zip(drange(y_min+.5,y_max+.5,1),y)))\n",
    "    #return drange(x_min+.5,x_max+.5,1)\n",
    "\n",
    "def get_x_y_lines(lines):\n",
    "    x_lines=[]\n",
    "    y_lines=[]\n",
    "    for line in lines:\n",
    "        if line[1] == 0:\n",
    "            x_lines.append(line[0])\n",
    "        else:\n",
    "            y_lines.append(line[1])\n",
    "    return x_lines,y_lines\n",
    "\n",
    "def collisions(pair,possible_line,points,lines):\n",
    "    n=len(points)\n",
    "    print(lines)\n",
    "    \n",
    "    # Check if either of pair exists in lines\n",
    "    if pair[0] not in lines:\n",
    "        print(pair[0],lines)\n",
    "    else:\n",
    "        lines.remove(pair[0])\n",
    "        \n",
    "    if pair[1] not in lines:\n",
    "        print(pair[1],lines)\n",
    "    else:\n",
    "        lines.remove(pair[1])\n",
    "    \n",
    "    # If possible line exists in lines\n",
    "    if possible_line in lines:\n",
    "        print(possible_line,lines)\n",
    "    else:\n",
    "        lines.append(possible_line)\n",
    "    \n",
    "    x_lines,y_lines=get_x_y_lines(lines)\n",
    "    x_interval = [0]\n",
    "    x_interval.extend(x_lines)\n",
    "    x_interval.append(len(points)+1)\n",
    "    y_interval = [0]\n",
    "    y_interval.extend(y_lines)\n",
    "    y_interval.append(len(points)+1)\n",
    "    boxes=[]\n",
    "    print(x_interval,y_interval)\n",
    "    \n",
    "    for point in points:\n",
    "        #find box of point\n",
    "        #print(point)\n",
    "        x_box=0\n",
    "        while point[0]>=x_interval[x_box] and x_box<len(x_interval):\n",
    "            x_box+=1\n",
    "        y_box=0\n",
    "        while point[1]>=y_interval[y_box] and y_box<len(y_interval):\n",
    "            y_box+=1\n",
    "        box = (x_box-1,y_box-1)\n",
    "        if box in boxes:\n",
    "            return True\n",
    "        else:\n",
    "            boxes.append(box)\n",
    "    return False\n",
    "\n",
    "def generate_possible_lines(points,lines_drawn):\n",
    "    all_possible = get_all_possible(points)\n",
    "    for line in lines_drawn:\n",
    "        if line in all_possible:\n",
    "            all_possible.remove(line)\n",
    "    return(all_possible)"
   ]
  },
  {
   "cell_type": "code",
   "execution_count": 5,
   "metadata": {
    "collapsed": false
   },
   "outputs": [],
   "source": [
    "def solution(points, lines_drawn):\n",
    "    LEN = len(lines_drawn)\n",
    "    x = list(get_combinations(lines_drawn))\n",
    "    possible_lines = generate_possible_lines(points,lines_drawn)\n",
    "    for pair in x:\n",
    "        for possible_line in possible_lines:\n",
    "            # If possible_line is not in lines drawn\n",
    "            if collisions(pair, possible_line, points, lines_drawn) == False: \n",
    "                #print(\"NO COLLISIONS\")\n",
    "                if len(lines_drawn) == math.ceil(math.sqrt(len(points))*2)-2:\n",
    "                    return(lines_drawn)\n",
    "                else:\n",
    "                    #print(\"CALL TO SOLUTION:\",lines_drawn,possible_lines)\n",
    "                    solution(points,lines_drawn)\n",
    "                    \n",
    "            # If possible line is in lines drawn\n",
    "            else: \n",
    "                lines_drawn.insert(0,pair[1])\n",
    "                lines_drawn.insert(0,pair[0])\n",
    "                #lines_drawn.remove(possible_line)\n",
    "            #print(lines_drawn)\n",
    "    return(lines_drawn)"
   ]
  },
  {
   "cell_type": "code",
   "execution_count": 6,
   "metadata": {
    "collapsed": false
   },
   "outputs": [
    {
     "name": "stdout",
     "output_type": "stream",
     "text": [
      "10\n",
      "[(1.5, 0), (2.5, 0), (3.5, 0), (4.5, 0), (5.5, 0), (6.5, 0), (7.5, 0), (8.5, 0), (9.5, 0)]\n",
      "[0, 3.5, 4.5, 5.5, 6.5, 7.5, 8.5, 9.5, 11] [0, (1.5, 0), 11]\n"
     ]
    },
    {
     "ename": "TypeError",
     "evalue": "unorderable types: int() >= tuple()",
     "output_type": "error",
     "traceback": [
      "\u001b[0;31m---------------------------------------------------------------------------\u001b[0m",
      "\u001b[0;31mTypeError\u001b[0m                                 Traceback (most recent call last)",
      "\u001b[0;32m<ipython-input-6-950cd9756583>\u001b[0m in \u001b[0;36m<module>\u001b[0;34m()\u001b[0m\n\u001b[1;32m     16\u001b[0m \u001b[0mall_x_lines\u001b[0m\u001b[1;33m,\u001b[0m\u001b[0mall_y_lines\u001b[0m\u001b[1;33m=\u001b[0m\u001b[0mget_all_possible\u001b[0m\u001b[1;33m(\u001b[0m\u001b[0mpoints\u001b[0m\u001b[1;33m)\u001b[0m\u001b[1;33m\u001b[0m\u001b[0m\n\u001b[1;32m     17\u001b[0m \u001b[0mprint\u001b[0m\u001b[1;33m(\u001b[0m\u001b[0mlen\u001b[0m\u001b[1;33m(\u001b[0m\u001b[0mpoints\u001b[0m\u001b[1;33m)\u001b[0m\u001b[1;33m)\u001b[0m\u001b[1;33m\u001b[0m\u001b[0m\n\u001b[0;32m---> 18\u001b[0;31m \u001b[0mld\u001b[0m \u001b[1;33m=\u001b[0m \u001b[0msolution\u001b[0m\u001b[1;33m(\u001b[0m\u001b[0mpoints\u001b[0m\u001b[1;33m,\u001b[0m\u001b[0mall_x_lines\u001b[0m\u001b[1;33m)\u001b[0m\u001b[1;33m\u001b[0m\u001b[0m\n\u001b[0m\u001b[1;32m     19\u001b[0m \u001b[0mprint\u001b[0m\u001b[1;33m(\u001b[0m\u001b[0mld\u001b[0m\u001b[1;33m)\u001b[0m\u001b[1;33m\u001b[0m\u001b[0m\n\u001b[1;32m     20\u001b[0m \u001b[0mplot\u001b[0m\u001b[1;33m(\u001b[0m\u001b[0mpoints\u001b[0m\u001b[1;33m,\u001b[0m\u001b[0mld\u001b[0m\u001b[1;33m)\u001b[0m\u001b[1;33m\u001b[0m\u001b[0m\n",
      "\u001b[0;32m<ipython-input-5-d5e864a358c2>\u001b[0m in \u001b[0;36msolution\u001b[0;34m(points, lines_drawn)\u001b[0m\n\u001b[1;32m      6\u001b[0m         \u001b[1;32mfor\u001b[0m \u001b[0mpossible_line\u001b[0m \u001b[1;32min\u001b[0m \u001b[0mpossible_lines\u001b[0m\u001b[1;33m:\u001b[0m\u001b[1;33m\u001b[0m\u001b[0m\n\u001b[1;32m      7\u001b[0m             \u001b[1;31m# If possible_line is not in lines drawn\u001b[0m\u001b[1;33m\u001b[0m\u001b[1;33m\u001b[0m\u001b[0m\n\u001b[0;32m----> 8\u001b[0;31m             \u001b[1;32mif\u001b[0m \u001b[0mcollisions\u001b[0m\u001b[1;33m(\u001b[0m\u001b[0mpair\u001b[0m\u001b[1;33m,\u001b[0m \u001b[0mpossible_line\u001b[0m\u001b[1;33m,\u001b[0m \u001b[0mpoints\u001b[0m\u001b[1;33m,\u001b[0m \u001b[0mlines_drawn\u001b[0m\u001b[1;33m)\u001b[0m \u001b[1;33m==\u001b[0m \u001b[1;32mFalse\u001b[0m\u001b[1;33m:\u001b[0m\u001b[1;33m\u001b[0m\u001b[0m\n\u001b[0m\u001b[1;32m      9\u001b[0m                 \u001b[1;31m#print(\"NO COLLISIONS\")\u001b[0m\u001b[1;33m\u001b[0m\u001b[1;33m\u001b[0m\u001b[0m\n\u001b[1;32m     10\u001b[0m                 \u001b[1;32mif\u001b[0m \u001b[0mlen\u001b[0m\u001b[1;33m(\u001b[0m\u001b[0mlines_drawn\u001b[0m\u001b[1;33m)\u001b[0m \u001b[1;33m==\u001b[0m \u001b[0mmath\u001b[0m\u001b[1;33m.\u001b[0m\u001b[0mceil\u001b[0m\u001b[1;33m(\u001b[0m\u001b[0mmath\u001b[0m\u001b[1;33m.\u001b[0m\u001b[0msqrt\u001b[0m\u001b[1;33m(\u001b[0m\u001b[0mlen\u001b[0m\u001b[1;33m(\u001b[0m\u001b[0mpoints\u001b[0m\u001b[1;33m)\u001b[0m\u001b[1;33m)\u001b[0m\u001b[1;33m*\u001b[0m\u001b[1;36m2\u001b[0m\u001b[1;33m)\u001b[0m\u001b[1;33m-\u001b[0m\u001b[1;36m2\u001b[0m\u001b[1;33m:\u001b[0m\u001b[1;33m\u001b[0m\u001b[0m\n",
      "\u001b[0;32m<ipython-input-2-2e6ec745952a>\u001b[0m in \u001b[0;36mcollisions\u001b[0;34m(pair, possible_line, points, lines)\u001b[0m\n\u001b[1;32m     80\u001b[0m             \u001b[0mx_box\u001b[0m\u001b[1;33m+=\u001b[0m\u001b[1;36m1\u001b[0m\u001b[1;33m\u001b[0m\u001b[0m\n\u001b[1;32m     81\u001b[0m         \u001b[0my_box\u001b[0m\u001b[1;33m=\u001b[0m\u001b[1;36m0\u001b[0m\u001b[1;33m\u001b[0m\u001b[0m\n\u001b[0;32m---> 82\u001b[0;31m         \u001b[1;32mwhile\u001b[0m \u001b[0mpoint\u001b[0m\u001b[1;33m[\u001b[0m\u001b[1;36m1\u001b[0m\u001b[1;33m]\u001b[0m\u001b[1;33m>=\u001b[0m\u001b[0my_interval\u001b[0m\u001b[1;33m[\u001b[0m\u001b[0my_box\u001b[0m\u001b[1;33m]\u001b[0m \u001b[1;32mand\u001b[0m \u001b[0my_box\u001b[0m\u001b[1;33m<\u001b[0m\u001b[0mlen\u001b[0m\u001b[1;33m(\u001b[0m\u001b[0my_interval\u001b[0m\u001b[1;33m)\u001b[0m\u001b[1;33m:\u001b[0m\u001b[1;33m\u001b[0m\u001b[0m\n\u001b[0m\u001b[1;32m     83\u001b[0m             \u001b[0my_box\u001b[0m\u001b[1;33m+=\u001b[0m\u001b[1;36m1\u001b[0m\u001b[1;33m\u001b[0m\u001b[0m\n\u001b[1;32m     84\u001b[0m         \u001b[0mbox\u001b[0m \u001b[1;33m=\u001b[0m \u001b[1;33m(\u001b[0m\u001b[0mx_box\u001b[0m\u001b[1;33m-\u001b[0m\u001b[1;36m1\u001b[0m\u001b[1;33m,\u001b[0m\u001b[0my_box\u001b[0m\u001b[1;33m-\u001b[0m\u001b[1;36m1\u001b[0m\u001b[1;33m)\u001b[0m\u001b[1;33m\u001b[0m\u001b[0m\n",
      "\u001b[0;31mTypeError\u001b[0m: unorderable types: int() >= tuple()"
     ]
    }
   ],
   "source": [
    "##########################\n",
    "# Main Program: Import Data\n",
    "##########################\n",
    "#for filename in os.listdir(os.getcwd()+'/input'):\n",
    "    \n",
    "def read_file(filename):\n",
    "    points = []\n",
    "    with open('input/'+filename, 'r') as f:\n",
    "        inpt = f.readlines()\n",
    "        for point in inpt[1:]:\n",
    "            point = point.split(' ')\n",
    "            points.append(((int(point[0])),(int(point[1]))))\n",
    "    return points\n",
    "\n",
    "points = read_file('instance01.txt')\n",
    "all_x_lines,all_y_lines=get_all_possible(points)\n",
    "print(len(points))\n",
    "ld = solution(points,all_x_lines)\n",
    "print(ld)\n",
    "plot(points,ld)"
   ]
  },
  {
   "cell_type": "code",
   "execution_count": 33,
   "metadata": {
    "collapsed": false
   },
   "outputs": [
    {
     "data": {
      "text/plain": [
       "7"
      ]
     },
     "execution_count": 33,
     "metadata": {},
     "output_type": "execute_result"
    }
   ],
   "source": [
    "math.ceil(math.sqrt(20)*2)-2"
   ]
  }
 ],
 "metadata": {
  "anaconda-cloud": {},
  "kernelspec": {
   "display_name": "Python [default]",
   "language": "python",
   "name": "python3"
  },
  "language_info": {
   "codemirror_mode": {
    "name": "ipython",
    "version": 3
   },
   "file_extension": ".py",
   "mimetype": "text/x-python",
   "name": "python",
   "nbconvert_exporter": "python",
   "pygments_lexer": "ipython3",
   "version": "3.5.2"
  }
 },
 "nbformat": 4,
 "nbformat_minor": 0
}
