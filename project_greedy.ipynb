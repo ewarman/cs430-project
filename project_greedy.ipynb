{
 "cells": [
  {
   "cell_type": "code",
   "execution_count": 17,
   "metadata": {
    "collapsed": true
   },
   "outputs": [],
   "source": [
    "##########################\n",
    "# CS 430 Final Project\n",
    "# Rachael Affenit, Emily Warman\n",
    "# Greedy Approach\n",
    "##########################\n",
    "\n",
    "import os\n",
    "import copy\n",
    "import itertools\n",
    "import matplotlib.pyplot as plt\n",
    "import math"
   ]
  },
  {
   "cell_type": "code",
   "execution_count": 18,
   "metadata": {
    "collapsed": false
   },
   "outputs": [],
   "source": [
    "##########################\n",
    "# Helper Functions & Global Vars\n",
    "##########################\n",
    "\n",
    "# Global vars\n",
    "points = []\n",
    "\n",
    "#import test file\n",
    "def importf(file):\n",
    "    filepath = os.getcwd()+'/input/'\n",
    "    with open(filepath+file, 'r') as f:\n",
    "        inpt = f.readlines()\n",
    "        for point in inpt[1:]:\n",
    "            point = point.split(' ')\n",
    "            points.append(((int(point[0])),(int(point[1]))))\n",
    "\n",
    "#define plot function\n",
    "%matplotlib inline\n",
    "def plot(points,graph,x_lines,y_lines):\n",
    "    plt.scatter(*zip(*points))\n",
    "    axes = plt.gca()\n",
    "    #plot lines drawn\n",
    "    for line in x_lines:\n",
    "        plt.plot([line, line],[0,len(points)], color='b', linestyle='-',linewidth=2)\n",
    "    for line in y_lines:\n",
    "        plt.plot([0,len(points)],[line,line], color='b', linestyle='-', linewidth=2)\n",
    "    #plot remaining\n",
    "    for point in graph.keys():\n",
    "        for p2 in graph[point]:\n",
    "            plt.plot([point[0], p2[0]], [point[1], p2[1]], linestyle='-', linewidth=2)\n",
    "    plt.show()\n",
    "\n",
    "#get all permutations of a list of possible lines\n",
    "def get_permutations(lines):\n",
    "    return itertools.permutations(lines)\n",
    "\n",
    "#make a list of possible lines (range function that takes floats)\n",
    "def drange(x, y, jump):\n",
    "    r=[]\n",
    "    while x < y:\n",
    "        r.append(float(x))\n",
    "        x += jump\n",
    "    return r\n",
    "\n",
    "#create lists of possible points (min x to max x, min y to max y)\n",
    "def get_all_possible(points):\n",
    "    x_sort = sorted(points, key=lambda x: x[0])\n",
    "    y_sort = sorted(points, key=lambda x: x[1])\n",
    "    x_min = x_sort[0][0]\n",
    "    x_max = x_sort[-1][0]\n",
    "    y_min = y_sort[0][1]\n",
    "    y_max = y_sort[-1][1]\n",
    "    \n",
    "    return (drange(x_min+.5,x_max+.5,1), drange(y_min+.5,y_max+.5,1))\n",
    "\n",
    "#make a graph of all possible graph points\n",
    "def make_graph(points):\n",
    "    initial_graph = dict.fromkeys(points)\n",
    "    for point in initial_graph.keys():\n",
    "        c_copy = copy.copy(points)\n",
    "        c_copy.remove(point)\n",
    "        initial_graph[point] = c_copy\n",
    "    return initial_graph\n",
    "\n",
    "#find how many points are separated by a given line\n",
    "def separate(gg, line, idx):\n",
    "    left = []\n",
    "    right = []\n",
    "    separated = 0\n",
    "    \n",
    "    #mark points left and right (or above and below) the line to be drawn\n",
    "    for point in gg.keys():\n",
    "        if point[idx] < line:\n",
    "            left.append(point)\n",
    "        if point[idx] > line:\n",
    "            right.append(point)\n",
    "    #separate the points\n",
    "    for point in gg.keys():\n",
    "        if point in left:\n",
    "            for p2 in right:\n",
    "                if p2 in gg[point]:\n",
    "                    separated += 1\n",
    "        if point in right:\n",
    "            for p2 in left:\n",
    "                if p2 in gg[point]:\n",
    "                    separated += 1\n",
    "    return separated\n",
    "\n",
    "#draw a new parallel line to separate points\n",
    "def draw(gg, line, idx):\n",
    "    left = []\n",
    "    right = []\n",
    "    separated = 0\n",
    "    \n",
    "    #mark points left and right (or above and below) the line to be drawn\n",
    "    for point in gg.keys():\n",
    "        if point[idx] < line:\n",
    "            left.append(point)\n",
    "        if point[idx] > line:\n",
    "            right.append(point)\n",
    "    #separate the points\n",
    "    for point in gg.keys():\n",
    "        if point in left:\n",
    "            for p2 in right:\n",
    "                if p2 in gg[point]:\n",
    "                    gg[point].remove(p2)\n",
    "                    separated += 1\n",
    "        if point in right:\n",
    "            for p2 in left:\n",
    "                if p2 in gg[point]:\n",
    "                    gg[point].remove(p2)\n",
    "                    separated += 1\n",
    "    return gg, separated\n",
    "\n",
    "def read_file(filename):\n",
    "    points = []\n",
    "    with open(os.getcwd()+'/input/'+filename, 'r') as f:\n",
    "        inpt = f.readlines()\n",
    "        for point in inpt[1:]:\n",
    "            point = point.split(' ')\n",
    "            points.append(((int(point[0])),(int(point[1]))))\n",
    "    return points\n",
    "\n",
    "def nodes_left(graph):\n",
    "    for point in graph.keys():\n",
    "        if graph[point]!=[]:\n",
    "            return True\n",
    "    return False"
   ]
  },
  {
   "cell_type": "markdown",
   "metadata": {},
   "source": [
    "SEPARATING POINTS BY AXIS-PARALLEL LINES\n",
    "\n",
    "Think about the points given as vertices of a graph. Imagine that when there are no lines drawn, no points are separated from each other. The graph is fully connected.\n",
    "\n",
    "The figure below represents the example input as a fully connected graph."
   ]
  },
  {
   "cell_type": "code",
   "execution_count": 19,
   "metadata": {
    "collapsed": false
   },
   "outputs": [
    {
     "name": "stdout",
     "output_type": "stream",
     "text": [
      "##########################################\n",
      "Separating Points by Axis-Parallel Lines\n",
      "##########################################\n",
      "Example Graph\n"
     ]
    },
    {
     "data": {
      "image/png": "[encoded data removed]",
      "text/plain": [
       "<matplotlib.figure.Figure at 0x25cfb185cc0>"
      ]
     },
     "metadata": {},
     "output_type": "display_data"
    }
   ],
   "source": [
    "##########################\n",
    "# Example Separations\n",
    "##########################\n",
    "\n",
    "print(\"##########################################\")\n",
    "print(\"Separating Points by Axis-Parallel Lines\")\n",
    "print(\"##########################################\")\n",
    "\n",
    "# Show an example graph\n",
    "points = []\n",
    "importf('instanceExample.txt')\n",
    "print(\"Example Graph\")\n",
    "plot(points,make_graph(points),[],[])"
   ]
  },
  {
   "cell_type": "markdown",
   "metadata": {},
   "source": [
    "When a vertical line is drawn between the points, the connections between the points to the left of the line and right (or top and bottom if horizontal) of the line are broken. When there are no edges in the graph, each point is fully separated from its neighbors. See example below:"
   ]
  },
  {
   "cell_type": "code",
   "execution_count": 20,
   "metadata": {
    "collapsed": false
   },
   "outputs": [
    {
     "name": "stdout",
     "output_type": "stream",
     "text": [
      "First separation\n"
     ]
    },
    {
     "data": {
      "image/png": "[encoded data removed]",
      "text/plain": [
       "<matplotlib.figure.Figure at 0x25cfb11c390>"
      ]
     },
     "metadata": {},
     "output_type": "display_data"
    },
    {
     "name": "stdout",
     "output_type": "stream",
     "text": [
      "Second separation\n"
     ]
    },
    {
     "data": {
      "image/png": "[encoded data removed]",
      "text/plain": [
       "<matplotlib.figure.Figure at 0x25cfb146208>"
      ]
     },
     "metadata": {},
     "output_type": "display_data"
    },
    {
     "name": "stdout",
     "output_type": "stream",
     "text": [
      "Third separation\n"
     ]
    },
    {
     "data": {
      "image/png": "[encoded data removed]",
      "text/plain": [
       "<matplotlib.figure.Figure at 0x25cfaf704a8>"
      ]
     },
     "metadata": {},
     "output_type": "display_data"
    }
   ],
   "source": [
    "# Show example separations\n",
    "print(\"First separation\")\n",
    "graph = make_graph(points)\n",
    "draw(graph, 2.5, 0)\n",
    "plot(points,graph,[2.5],[])\n",
    "\n",
    "print(\"Second separation\")\n",
    "draw(graph, 2.5, 1)\n",
    "plot(points,graph,[2.5],[2.5])\n",
    "\n",
    "print(\"Third separation\")\n",
    "draw(graph, 1.5, 0)\n",
    "plot(points,graph,[1.5,2.5],[2.5])\n"
   ]
  },
  {
   "cell_type": "markdown",
   "metadata": {},
   "source": [
    "GREEDY ALGORITHM SOLUTION\n",
    "\n",
    "The professor's paper stated that the optimal number of lines to draw is 2*sqrt(n)-2 (n=number of points). This assumption has been made for the sake of our algorithms.\n",
    "\n",
    "Our greedy solution algorithm does the following:\n",
    "1. Gets all vertical lines that can be drawn between the leftmost point and rightmost point and all horizontal lines that can be drawn between the topmost point and bottommost point\n",
    "2. Initializes the graph representation shown above\n",
    "3. Calculates the number of lines drawn in an optimal solution\n",
    "4. While the graph is still connected at any point:\n",
    "    For every possible horizontal and vertical line to be drawn:\n",
    "        simulate separations by the line in the graph\n",
    "        if more new separations occur than current best, make this line the new best\n",
    "    Add the best line to the output information\n",
    "   \n",
    "   Return all output information\n",
    "\n",
    "The running time of this algorithm would be O(n^4) with the three loops present.\n",
    "    The outside while loop iterates through all n nodes in the graph\n",
    "    This calls find_best, with a time complexity of O(n^3) due to its call to the O(n^2) method \"separate\"inside the for loop"
   ]
  },
  {
   "cell_type": "code",
   "execution_count": 21,
   "metadata": {
    "collapsed": false
   },
   "outputs": [],
   "source": [
    "##########################\n",
    "# Greedy Algorithm Solution\n",
    "##########################\n",
    "def find_best(graph, all_lines, lines_drawn, idx):\n",
    "    best_sep = 0\n",
    "    best_line = None\n",
    "    for line in all_lines:\n",
    "        if line in lines_drawn:\n",
    "            continue\n",
    "        else:\n",
    "            sep = separate(graph, line, idx)\n",
    "            if sep > best_sep:\n",
    "                best_line = line\n",
    "                best_sep = sep\n",
    "    return best_line, best_sep\n",
    "            \n",
    "def segment(points):\n",
    "    all_x_lines, all_y_lines = get_all_possible(points)\n",
    "    graph = make_graph(points)\n",
    "    OPT = math.ceil(math.sqrt(len(points))*2)-2\n",
    "    \n",
    "    S = []\n",
    "    vh = []\n",
    "    x_lines_drawn = []\n",
    "    y_lines_drawn = []\n",
    "    total_lines_drawn = 0\n",
    "    \n",
    "    while nodes_left(graph):\n",
    "        best_line = None\n",
    "        best_axis = 0\n",
    "        \n",
    "        best_line_x, separated_x = find_best(graph, all_x_lines, x_lines_drawn, 0)\n",
    "        best_line_y, separated_y = find_best(graph, all_y_lines, y_lines_drawn, 1)\n",
    "        \n",
    "        if separated_x >= separated_y:\n",
    "            best_line = best_line_x\n",
    "            best_axis = 0\n",
    "        else:\n",
    "            best_line = best_line_y\n",
    "            best_axis = 1\n",
    "        \n",
    "        if best_axis: \n",
    "            y_lines_drawn.append(best_line)\n",
    "        else: \n",
    "            x_lines_drawn.append(best_line)\n",
    "        \n",
    "        S.append(best_line)\n",
    "        vh.append(best_axis)\n",
    "        total_lines_drawn += 1\n",
    "        \n",
    "        graph,sep = draw(graph, best_line, best_axis)\n",
    "\n",
    "    return (graph,S,vh,total_lines_drawn,x_lines_drawn,y_lines_drawn)"
   ]
  },
  {
   "cell_type": "code",
   "execution_count": 22,
   "metadata": {
    "collapsed": false
   },
   "outputs": [
    {
     "name": "stdout",
     "output_type": "stream",
     "text": [
      "##########################\n",
      "Testing Greedy Algorithm\n",
      "##########################\n"
     ]
    },
    {
     "data": {
      "image/png": "[encoded data removed]",
      "text/plain": [
       "<matplotlib.figure.Figure at 0x25cfaffbcc0>"
      ]
     },
     "metadata": {},
     "output_type": "display_data"
    },
    {
     "name": "stdout",
     "output_type": "stream",
     "text": [
      "[13.5, 19.5, 6.5, 15.5, 21.5, 8.5, 1.5, 4.5, 16.5, 25.5]\n",
      "[13.5, 18.5, 6.5, 23.5]\n",
      "\n",
      "14\n",
      "v  13.5\n",
      "h  13.5\n",
      "v  19.5\n",
      "v  6.5\n",
      "h  18.5\n",
      "h  6.5\n",
      "h  23.5\n",
      "v  15.5\n",
      "v  21.5\n",
      "v  8.5\n",
      "v  1.5\n",
      "v  4.5\n",
      "v  16.5\n",
      "v  25.5\n"
     ]
    }
   ],
   "source": [
    "##########################\n",
    "# Testing Greedy Algorithm\n",
    "##########################\n",
    "\n",
    "print(\"##########################\")\n",
    "print(\"Testing Greedy Algorithm\")\n",
    "print(\"##########################\")\n",
    "\n",
    "points = []\n",
    "importf('instance_04.txt') ###### CHANGE THIS FILE NAME IN ORDER TO TEST A DIFFERENT INSTANCE FILE ######\n",
    "graph,S,vh,total_lines,x_lines,y_lines = segment(points)\n",
    "plot(points,graph,x_lines,y_lines)\n",
    "print(x_lines)\n",
    "print(y_lines)\n",
    "print(\"\")\n",
    "print (total_lines)\n",
    "for i in range (0,len(S)):\n",
    "    if (vh[i] == 0):\n",
    "        print (\"v \", S[i])\n",
    "    elif (vh[i] == 1):\n",
    "        print (\"h \", S[i])"
   ]
  },
  {
   "cell_type": "code",
   "execution_count": 23,
   "metadata": {
    "collapsed": false
   },
   "outputs": [
    {
     "name": "stdout",
     "output_type": "stream",
     "text": [
      "##########################\n",
      "Example of Algorithm Failure\n",
      "##########################\n",
      "Algorithm Result\n"
     ]
    },
    {
     "data": {
      "image/png": "[encoded data removed]",
      "text/plain": [
       "<matplotlib.figure.Figure at 0x25cfafe14e0>"
      ]
     },
     "metadata": {},
     "output_type": "display_data"
    },
    {
     "name": "stdout",
     "output_type": "stream",
     "text": [
      "7\n",
      "v  7.5\n",
      "h  5.5\n",
      "h  7.5\n",
      "v  1.5\n",
      "v  5.5\n",
      "v  8.5\n",
      "v  9.5\n",
      "\n",
      "Optimal Result\n"
     ]
    },
    {
     "data": {
      "image/png": "[encoded data removed]",
      "text/plain": [
       "<matplotlib.figure.Figure at 0x25cf4955198>"
      ]
     },
     "metadata": {},
     "output_type": "display_data"
    },
    {
     "name": "stdout",
     "output_type": "stream",
     "text": [
      "6\n",
      "v 4.5\n",
      "h 4.5\n",
      "v 7.5\n",
      "h 8.5\n",
      "v 6.5\n",
      "v 8.5\n"
     ]
    }
   ],
   "source": [
    "##########################\n",
    "# Example of Algorithm Failure\n",
    "##########################\n",
    "\n",
    "print(\"##########################\")\n",
    "print(\"Example of Algorithm Failure\")\n",
    "print(\"##########################\")\n",
    "\n",
    "# Algorithm Result\n",
    "points = []\n",
    "importf('instanceFail.txt')\n",
    "print(\"Algorithm Result\")\n",
    "\n",
    "graph,S,vh,total_lines,x_lines,y_lines = segment(points)\n",
    "plot(points,graph,x_lines,y_lines)\n",
    "print (total_lines)\n",
    "for i in range (0,len(S)):\n",
    "    if (vh[i] == 0):\n",
    "        print (\"v \", S[i])\n",
    "    elif (vh[i] == 1):\n",
    "        print (\"h \", S[i])\n",
    "        \n",
    "# Optimal Result\n",
    "points = []\n",
    "importf('instanceFail.txt')\n",
    "print(\"\")\n",
    "print(\"Optimal Result\")\n",
    "graph = make_graph(points)\n",
    "\n",
    "#print(\"First separation\")\n",
    "draw(graph, 4.5, 0)\n",
    "#plot(points,graph,[4.5],[])\n",
    "\n",
    "#print(\"Second separation\")\n",
    "draw(graph, 4.5, 1)\n",
    "#plot(points,graph,[4.5],[4.5])\n",
    "\n",
    "#print(\"Third separation\")\n",
    "draw(graph, 7.5, 0)\n",
    "#plot(points,graph,[4.5, 7.5],[4.5])\n",
    "\n",
    "#print(\"Fourth separation\")\n",
    "draw(graph, 8.5, 1)\n",
    "#plot(points,graph,[4.5, 7.5],[4.5, 8.5])\n",
    "\n",
    "#print(\"Fifth separation\")\n",
    "draw(graph, 6.5, 0)\n",
    "#plot(points,graph,[4.5, 7.5, 8.5],[4.5, 8.5])\n",
    "\n",
    "#print(\"Sixth separation\")\n",
    "draw(graph, 8.5, 0)\n",
    "plot(points,graph,[4.5, 7.5, 8.5, 6.5],[4.5, 8.5])\n",
    "\n",
    "print(\"6\\nv 4.5\\nh 4.5\\nv 7.5\\nh 8.5\\nv 6.5\\nv 8.5\")\n"
   ]
  },
  {
   "cell_type": "code",
   "execution_count": 24,
   "metadata": {
    "collapsed": false
   },
   "outputs": [
    {
     "name": "stdout",
     "output_type": "stream",
     "text": [
      "##########################\n",
      "Running Greedy Algorithm\n",
      "##########################\n",
      "instanceExample.txt\n",
      "write success\n",
      "instanceFail.txt\n",
      "write success\n",
      "instance_01.txt\n",
      "write success\n",
      "instance_02.txt\n",
      "write success\n",
      "instance_03.txt\n",
      "write success\n",
      "instance_04.txt\n",
      "write success\n",
      "instance_05.txt\n",
      "write success\n",
      "instance_06.txt\n",
      "write success\n",
      "instance_07.txt\n",
      "write success\n"
     ]
    }
   ],
   "source": [
    "print(\"##########################\")\n",
    "print(\"Running Greedy Algorithm\")\n",
    "print(\"##########################\")\n",
    "\n",
    "if __name__ == \"__main__\":\n",
    "    for filename in os.listdir(os.getcwd()+'/input'):\n",
    "        points = []\n",
    "        points = read_file(filename)\n",
    "        print(filename)\n",
    "        g,S,vh,tot,x,y = segment(points)\n",
    "        with open(os.getcwd()+'/output_greedy/'+filename, 'w') as o_file:\n",
    "            o_file.write(str(len(S))+'\\n')\n",
    "            for i in range (0,len(S)):\n",
    "                if (vh[i] == 0):\n",
    "                    o_file.write('v '+str(S[i])+'\\n')\n",
    "                elif (vh[i] == 1):\n",
    "                    o_file.write('h '+str(S[i])+'\\n')\n",
    "\n",
    "        print(\"write success\")\n"
   ]
  },
  {
   "cell_type": "code",
   "execution_count": null,
   "metadata": {
    "collapsed": true
   },
   "outputs": [],
   "source": []
  }
 ],
 "metadata": {
  "anaconda-cloud": {},
  "kernelspec": {
   "display_name": "Python [default]",
   "language": "python",
   "name": "python3"
  },
  "language_info": {
   "codemirror_mode": {
    "name": "ipython",
    "version": 3
   },
   "file_extension": ".py",
   "mimetype": "text/x-python",
   "name": "python",
   "nbconvert_exporter": "python",
   "pygments_lexer": "ipython3",
   "version": "3.5.2"
  }
 },
 "nbformat": 4,
 "nbformat_minor": 0
}
