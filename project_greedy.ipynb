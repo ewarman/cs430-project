{
 "cells": [
  {
   "cell_type": "code",
   "execution_count": 62,
   "metadata": {
    "collapsed": true
   },
   "outputs": [],
   "source": [
    "##########################\n",
    "# CS 430 Final Project\n",
    "# Emily Warman, Rachael Affenit\n",
    "# Greedy Approach\n",
    "##########################\n",
    "\n",
    "import os\n",
    "import copy\n",
    "import itertools\n",
    "import matplotlib.pyplot as plt\n",
    "import math"
   ]
  },
  {
   "cell_type": "code",
   "execution_count": 63,
   "metadata": {
    "collapsed": false
   },
   "outputs": [],
   "source": [
    "##########################\n",
    "# Helper Functions\n",
    "##########################\n",
    "\n",
    "#define plot function\n",
    "%matplotlib inline\n",
    "def plot(points,graph,x_lines,y_lines):\n",
    "    plt.scatter(*zip(*points))\n",
    "    axes = plt.gca()\n",
    "    #plot lines drawn\n",
    "    for line in x_lines:\n",
    "        plt.plot([line, line],[0,6], color='b', linestyle='-',linewidth=2)\n",
    "    for line in y_lines:\n",
    "        plt.plot([0,6],[line,line], color='b', linestyle='-', linewidth=2)\n",
    "    #plot remaining\n",
    "    for point in graph.keys():\n",
    "        for p2 in graph[point]:\n",
    "            plt.plot([point[0], p2[0]], [point[1], p2[1]], linestyle='-', linewidth=2)\n",
    "    plt.show()\n",
    "\n",
    "#get all permutations of a list of possible lines\n",
    "def get_permutations(lines):\n",
    "    return itertools.permutations(lines)\n",
    "\n",
    "#make a list of possible lines (range function that takes floats)\n",
    "def drange(x, y, jump):\n",
    "    r=[]\n",
    "    while x < y:\n",
    "        r.append(float(x))\n",
    "        x += jump\n",
    "    return r\n",
    "\n",
    "#create lists of possible points (min x to max x, min y to max y)\n",
    "def get_all_possible(points):\n",
    "    x_sort = sorted(points, key=lambda x: x[0])\n",
    "    y_sort = sorted(points, key=lambda x: x[1])\n",
    "    x_min = x_sort[0][0]\n",
    "    x_max = x_sort[-1][0]\n",
    "    y_min = y_sort[0][1]\n",
    "    y_max = y_sort[-1][1]\n",
    "    \n",
    "    return (drange(x_min+.5,x_max+.5,1), drange(y_min+.5,y_max+.5,1))\n",
    "\n",
    "#make a graph of all possible graph points\n",
    "def make_graph(points):\n",
    "    initial_graph = dict.fromkeys(points)\n",
    "    for point in initial_graph.keys():\n",
    "        c_copy = copy.copy(points)\n",
    "        c_copy.remove(point)\n",
    "        initial_graph[point] = c_copy\n",
    "    return initial_graph\n",
    "\n",
    "#draw a new parallel line to separate points\n",
    "def draw(graph, line, idx):\n",
    "    left = []\n",
    "    right = []\n",
    "    \n",
    "    #mark points left and right (or above and below) the line to be drawn\n",
    "    for point in graph.keys():\n",
    "        if point[idx]<line:\n",
    "            left.append(point)\n",
    "        if point[idx]>line:\n",
    "            right.append(point)\n",
    "    #separate the points\n",
    "    for point in graph.keys():\n",
    "        if point in left:\n",
    "            for p2 in right:\n",
    "                if p2 in graph[point]:\n",
    "                    graph[point].remove(p2)\n",
    "        if point in right:\n",
    "            for p2 in left:\n",
    "                if p2 in graph[point]:\n",
    "                    graph[point].remove(p2)\n",
    "    return graph\n",
    "\n",
    "def nodes_left(graph):\n",
    "    for point in graph.keys():\n",
    "        if graph[point]!=[]:\n",
    "            return True\n",
    "    return False"
   ]
  },
  {
   "cell_type": "code",
   "execution_count": 64,
   "metadata": {
    "collapsed": false
   },
   "outputs": [],
   "source": [
    "##########################\n",
    "# Main Program: Import Data\n",
    "##########################\n",
    "for filename in os.listdir(os.getcwd()+'/input'):\n",
    "    points = []\n",
    "    with open('input/'+filename, 'r') as f:\n",
    "        inpt = f.readlines()\n",
    "        for point in inpt[1:]:\n",
    "            point = point.split(' ')\n",
    "            points.append(((int(point[0])),(int(point[1]))))"
   ]
  },
  {
   "cell_type": "markdown",
   "metadata": {},
   "source": [
    "SEPARATING POINTS BY AXIS-PARALLEL LINES\n",
    "\n",
    "Think about the points given as vertices of a graph. Imagine that when there are no lines drawn, no points are separated from each other. The graph is fully connected.\n",
    "\n",
    "The figure below represents the example input as a fully connected graph"
   ]
  },
  {
   "cell_type": "code",
   "execution_count": 65,
   "metadata": {
    "collapsed": false
   },
   "outputs": [
    {
     "data": {
      "image/png": "[encoded data removed]",
      "text/plain": [
       "<matplotlib.figure.Figure at 0x1eca4560cc0>"
      ]
     },
     "metadata": {},
     "output_type": "display_data"
    }
   ],
   "source": [
    "plot(points,make_graph(points),[],[])"
   ]
  },
  {
   "cell_type": "markdown",
   "metadata": {},
   "source": [
    "When a vertical line is drawn between the points, the connections between the points to the left of the line and right (or top and bottom if horizontal) of the line are broken. When there are no edges in the graph, each point is fully separated from its neighbors. See example below:"
   ]
  },
  {
   "cell_type": "code",
   "execution_count": 104,
   "metadata": {
    "collapsed": false
   },
   "outputs": [
    {
     "name": "stdout",
     "output_type": "stream",
     "text": [
      "First separation\n"
     ]
    },
    {
     "data": {
      "image/png": "[encoded data removed]",
      "text/plain": [
       "<matplotlib.figure.Figure at 0x1eca45baf28>"
      ]
     },
     "metadata": {},
     "output_type": "display_data"
    },
    {
     "name": "stdout",
     "output_type": "stream",
     "text": [
      "Second separation\n"
     ]
    },
    {
     "data": {
      "image/png": "[encoded data removed]",
      "text/plain": [
       "<matplotlib.figure.Figure at 0x1eca45baef0>"
      ]
     },
     "metadata": {},
     "output_type": "display_data"
    },
    {
     "name": "stdout",
     "output_type": "stream",
     "text": [
      "Third separation\n"
     ]
    },
    {
     "data": {
      "image/png": "[encoded data removed]",
      "text/plain": [
       "<matplotlib.figure.Figure at 0x1eca45e6cc0>"
      ]
     },
     "metadata": {},
     "output_type": "display_data"
    }
   ],
   "source": [
    "##########################\n",
    "# Main Program: Separation Example\n",
    "##########################\n",
    "\n",
    "print(\"First separation\")\n",
    "graph = make_graph(points)\n",
    "draw(graph, 2.5, 0)\n",
    "plot(points,graph,[2.5],[])\n",
    "\n",
    "print(\"Second separation\")\n",
    "draw(graph, 2.5, 1)\n",
    "plot(points,graph,[2.5],[2.5])\n",
    "\n",
    "print(\"Third separation\")\n",
    "draw(graph, 3.5, 0)\n",
    "plot(points,graph,[2.5,3.5],[2.5])\n"
   ]
  },
  {
   "cell_type": "markdown",
   "metadata": {},
   "source": [
    "The professor's paper stated that the optimal number of lines to draw is 2*sqrt(n)-2 (n=number of points). This assumption has been made for the sake of our algorithms.\n",
    "\n",
    "Our greedy solution algorithm does the following:\n",
    "1. Gets all vertical lines that can be drawn between the leftmost point and rightmost point and all horizontal lines that can be drawn between the topmost point and bottommost point\n",
    "2. Initializes the graph representation shown above\n",
    "3. Calculates the number of lines drawn in an optimal solution\n",
    "4. While the graph is still connected at any point:\n",
    "    For every order/combination of horizontal and vertical lines to be drawn:\n",
    "        draw the line in a copy graph (alternate between vertical and horizontal)\n",
    "        if more new separations occur than current best, make this line the new best\n",
    "    Add the best line to the output information\n",
    "   \n",
    "   Return all output information\n",
    "\n",
    "The running time of this algorithm would be O(n^3) with the three loops present.\n",
    "    The outside while loop iterates through all n nodes in the graph\n",
    "    The inner for loops together iterate through all possible n^2 edges in the graph"
   ]
  },
  {
   "cell_type": "code",
   "execution_count": 105,
   "metadata": {
    "collapsed": false
   },
   "outputs": [],
   "source": [
    "##########################\n",
    "# Main Program: Greedy Solution\n",
    "##########################\n",
    "def find_best(graph, best_line, best_nodes_left, best_axis, all_lines, lines_drawn, idx):\n",
    "    i = 0\n",
    "    for lines_perm in get_permutations(all_lines):\n",
    "        line = None\n",
    "        if lines_perm in lines_drawn:\n",
    "            continue\n",
    "        else:\n",
    "            line = lines_perm[i] # THIS LINE DOES NOT WORK!!! THIS IS THE PROBLEM.\n",
    "            g = draw(graph, line, idx)\n",
    "            if nodes_left(g) < best_nodes_left:\n",
    "                best_line = line\n",
    "                best_nodes_left = nodes_left(g)\n",
    "                best_axis = idx\n",
    "        i += 1\n",
    "    return best_line, best_nodes_left, best_axis\n",
    "            \n",
    "def segment(points):\n",
    "    all_x_lines, all_y_lines = get_all_possible(points)\n",
    "    graph = make_graph(points)\n",
    "    OPT = math.ceil(math.sqrt(len(points))*2)-2\n",
    "    \n",
    "    S = []\n",
    "    vh = {}\n",
    "    x_lines_drawn = []\n",
    "    y_lines_drawn = []\n",
    "    total_lines_drawn = 0\n",
    "    \n",
    "    while nodes_left(graph):\n",
    "        best_line = None\n",
    "        best_axis = 0\n",
    "        best_nodes_left = nodes_left(graph)\n",
    "        look_at_x = True\n",
    "        \n",
    "        best_line, best_nodes_left, best_axis = find_best(graph, best_line, best_nodes_left, best_axis, all_x_lines, x_lines_drawn, 0)\n",
    "        best_line, best_nodes_left, best_axis = find_best(graph, best_line, best_nodes_left, best_axis, all_y_lines, y_lines_drawn, 1)\n",
    "        graph = draw(graph, best_line, best_axis)\n",
    "        \n",
    "        if best_axis: \n",
    "            y_lines_drawn.append(best_line)\n",
    "        else: \n",
    "            x_lines_drawn.append(best_line)\n",
    "        \n",
    "        S.append(best_line)\n",
    "        vh[best_line] = best_axis\n",
    "        total_lines_drawn += 1\n",
    "    \n",
    "    return (graph,S,vh,total_lines_drawn,x_lines_drawn,y_lines_drawn)"
   ]
  },
  {
   "cell_type": "code",
   "execution_count": 106,
   "metadata": {
    "collapsed": false
   },
   "outputs": [
    {
     "ename": "IndexError",
     "evalue": "tuple index out of range",
     "output_type": "error",
     "traceback": [
      "\u001b[0;31m---------------------------------------------------------------------------\u001b[0m",
      "\u001b[0;31mIndexError\u001b[0m                                Traceback (most recent call last)",
      "\u001b[0;32m<ipython-input-106-5fcb99cedbdf>\u001b[0m in \u001b[0;36m<module>\u001b[0;34m()\u001b[0m\n\u001b[1;32m      1\u001b[0m \u001b[1;31m# Show final solution\u001b[0m\u001b[1;33m\u001b[0m\u001b[1;33m\u001b[0m\u001b[0m\n\u001b[0;32m----> 2\u001b[0;31m \u001b[0mgraph\u001b[0m\u001b[1;33m,\u001b[0m\u001b[0mS\u001b[0m\u001b[1;33m,\u001b[0m\u001b[0mvh\u001b[0m\u001b[1;33m,\u001b[0m\u001b[0mtotal_lines\u001b[0m\u001b[1;33m,\u001b[0m\u001b[0mx_lines\u001b[0m\u001b[1;33m,\u001b[0m\u001b[0my_lines\u001b[0m \u001b[1;33m=\u001b[0m \u001b[0msegment\u001b[0m\u001b[1;33m(\u001b[0m\u001b[0mpoints\u001b[0m\u001b[1;33m)\u001b[0m\u001b[1;33m\u001b[0m\u001b[0m\n\u001b[0m\u001b[1;32m      3\u001b[0m \u001b[0mplot\u001b[0m\u001b[1;33m(\u001b[0m\u001b[0mpoints\u001b[0m\u001b[1;33m,\u001b[0m\u001b[0mgraph\u001b[0m\u001b[1;33m,\u001b[0m\u001b[0mx_lines\u001b[0m\u001b[1;33m,\u001b[0m\u001b[0my_lines\u001b[0m\u001b[1;33m)\u001b[0m\u001b[1;33m\u001b[0m\u001b[0m\n\u001b[1;32m      4\u001b[0m \u001b[0mprint\u001b[0m\u001b[1;33m(\u001b[0m\u001b[0mx_lines\u001b[0m\u001b[1;33m)\u001b[0m\u001b[1;33m\u001b[0m\u001b[0m\n\u001b[1;32m      5\u001b[0m \u001b[0mprint\u001b[0m\u001b[1;33m(\u001b[0m\u001b[0my_lines\u001b[0m\u001b[1;33m)\u001b[0m\u001b[1;33m\u001b[0m\u001b[0m\n",
      "\u001b[0;32m<ipython-input-105-e37c53b958f3>\u001b[0m in \u001b[0;36msegment\u001b[0;34m(points)\u001b[0m\n\u001b[1;32m     35\u001b[0m         \u001b[0mlook_at_x\u001b[0m \u001b[1;33m=\u001b[0m \u001b[1;32mTrue\u001b[0m\u001b[1;33m\u001b[0m\u001b[0m\n\u001b[1;32m     36\u001b[0m \u001b[1;33m\u001b[0m\u001b[0m\n\u001b[0;32m---> 37\u001b[0;31m         \u001b[0mbest_line\u001b[0m\u001b[1;33m,\u001b[0m \u001b[0mbest_nodes_left\u001b[0m\u001b[1;33m,\u001b[0m \u001b[0mbest_axis\u001b[0m \u001b[1;33m=\u001b[0m \u001b[0mfind_best\u001b[0m\u001b[1;33m(\u001b[0m\u001b[0mgraph\u001b[0m\u001b[1;33m,\u001b[0m \u001b[0mbest_line\u001b[0m\u001b[1;33m,\u001b[0m \u001b[0mbest_nodes_left\u001b[0m\u001b[1;33m,\u001b[0m \u001b[0mbest_axis\u001b[0m\u001b[1;33m,\u001b[0m \u001b[0mall_x_lines\u001b[0m\u001b[1;33m,\u001b[0m \u001b[0mx_lines_drawn\u001b[0m\u001b[1;33m,\u001b[0m \u001b[1;36m0\u001b[0m\u001b[1;33m)\u001b[0m\u001b[1;33m\u001b[0m\u001b[0m\n\u001b[0m\u001b[1;32m     38\u001b[0m         \u001b[0mbest_line\u001b[0m\u001b[1;33m,\u001b[0m \u001b[0mbest_nodes_left\u001b[0m\u001b[1;33m,\u001b[0m \u001b[0mbest_axis\u001b[0m \u001b[1;33m=\u001b[0m \u001b[0mfind_best\u001b[0m\u001b[1;33m(\u001b[0m\u001b[0mgraph\u001b[0m\u001b[1;33m,\u001b[0m \u001b[0mbest_line\u001b[0m\u001b[1;33m,\u001b[0m \u001b[0mbest_nodes_left\u001b[0m\u001b[1;33m,\u001b[0m \u001b[0mbest_axis\u001b[0m\u001b[1;33m,\u001b[0m \u001b[0mall_y_lines\u001b[0m\u001b[1;33m,\u001b[0m \u001b[0my_lines_drawn\u001b[0m\u001b[1;33m,\u001b[0m \u001b[1;36m1\u001b[0m\u001b[1;33m)\u001b[0m\u001b[1;33m\u001b[0m\u001b[0m\n\u001b[1;32m     39\u001b[0m         \u001b[0mgraph\u001b[0m \u001b[1;33m=\u001b[0m \u001b[0mdraw\u001b[0m\u001b[1;33m(\u001b[0m\u001b[0mgraph\u001b[0m\u001b[1;33m,\u001b[0m \u001b[0mbest_line\u001b[0m\u001b[1;33m,\u001b[0m \u001b[0mbest_axis\u001b[0m\u001b[1;33m)\u001b[0m\u001b[1;33m\u001b[0m\u001b[0m\n",
      "\u001b[0;32m<ipython-input-105-e37c53b958f3>\u001b[0m in \u001b[0;36mfind_best\u001b[0;34m(graph, best_line, best_nodes_left, best_axis, all_lines, lines_drawn, idx)\u001b[0m\n\u001b[1;32m      9\u001b[0m             \u001b[1;32mcontinue\u001b[0m\u001b[1;33m\u001b[0m\u001b[0m\n\u001b[1;32m     10\u001b[0m         \u001b[1;32melse\u001b[0m\u001b[1;33m:\u001b[0m\u001b[1;33m\u001b[0m\u001b[0m\n\u001b[0;32m---> 11\u001b[0;31m             \u001b[0mline\u001b[0m \u001b[1;33m=\u001b[0m \u001b[0mlines_perm\u001b[0m\u001b[1;33m[\u001b[0m\u001b[0mi\u001b[0m\u001b[1;33m]\u001b[0m \u001b[1;31m# THIS LINE DOES NOT WORK!!! THIS IS THE PROBLEM.\u001b[0m\u001b[1;33m\u001b[0m\u001b[0m\n\u001b[0m\u001b[1;32m     12\u001b[0m             \u001b[0mg\u001b[0m \u001b[1;33m=\u001b[0m \u001b[0mdraw\u001b[0m\u001b[1;33m(\u001b[0m\u001b[0mgraph\u001b[0m\u001b[1;33m,\u001b[0m \u001b[0mline\u001b[0m\u001b[1;33m,\u001b[0m \u001b[0midx\u001b[0m\u001b[1;33m)\u001b[0m\u001b[1;33m\u001b[0m\u001b[0m\n\u001b[1;32m     13\u001b[0m             \u001b[1;32mif\u001b[0m \u001b[0mnodes_left\u001b[0m\u001b[1;33m(\u001b[0m\u001b[0mg\u001b[0m\u001b[1;33m)\u001b[0m \u001b[1;33m<\u001b[0m \u001b[0mbest_nodes_left\u001b[0m\u001b[1;33m:\u001b[0m\u001b[1;33m\u001b[0m\u001b[0m\n",
      "\u001b[0;31mIndexError\u001b[0m: tuple index out of range"
     ]
    }
   ],
   "source": [
    "# Show final solution\n",
    "graph,S,vh,total_lines,x_lines,y_lines = segment(points)\n",
    "plot(points,graph,x_lines,y_lines)\n",
    "print(x_lines)\n",
    "print(y_lines)"
   ]
  },
  {
   "cell_type": "code",
   "execution_count": 107,
   "metadata": {
    "collapsed": false
   },
   "outputs": [
    {
     "name": "stdout",
     "output_type": "stream",
     "text": [
      "1\n",
      "v  1.5\n"
     ]
    }
   ],
   "source": [
    "# Project output\n",
    "print (total_lines)\n",
    "for line in S:\n",
    "    if (vh[line] == 0):\n",
    "        print (\"v \", line)\n",
    "    else:\n",
    "        print (\"h \", line)"
   ]
  },
  {
   "cell_type": "code",
   "execution_count": null,
   "metadata": {
    "collapsed": true
   },
   "outputs": [],
   "source": []
  }
 ],
 "metadata": {
  "anaconda-cloud": {},
  "kernelspec": {
   "display_name": "Python [default]",
   "language": "python",
   "name": "python3"
  },
  "language_info": {
   "codemirror_mode": {
    "name": "ipython",
    "version": 3
   },
   "file_extension": ".py",
   "mimetype": "text/x-python",
   "name": "python",
   "nbconvert_exporter": "python",
   "pygments_lexer": "ipython3",
   "version": "3.5.2"
  }
 },
 "nbformat": 4,
 "nbformat_minor": 0
}
