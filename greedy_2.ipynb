{
 "cells": [
  {
   "cell_type": "code",
   "execution_count": 21,
   "metadata": {
    "collapsed": true
   },
   "outputs": [],
   "source": [
    "##########################\n",
    "# CS 430 Final Project\n",
    "# Emily Warman, Rachael Affenit\n",
    "# Local Approach\n",
    "##########################\n",
    "\n",
    "import os\n",
    "import copy\n",
    "import itertools\n",
    "import matplotlib.pyplot as plt\n",
    "import math"
   ]
  },
  {
   "cell_type": "code",
   "execution_count": 22,
   "metadata": {
    "collapsed": false
   },
   "outputs": [],
   "source": [
    "%matplotlib inline\n",
    "\n",
    "def plot(points,lines):\n",
    "    plt.scatter(*zip(*points))\n",
    "    axes = plt.gca()\n",
    "    #plot lines drawn\n",
    "    for line in lines:\n",
    "        if line[1]==0:\n",
    "            plt.plot([line[0], line[0]],[0,len(points)], color='b', linestyle='-',linewidth=2)\n",
    "        else:\n",
    "            plt.plot([0,len(points)],[line[0],line[0]], color='b', linestyle='-', linewidth=2)\n",
    "    plt.show()\n",
    "    \n",
    "#get all permutations of a list of possible lines\n",
    "def get_combinations(lines):\n",
    "    return itertools.combinations(lines,2)\n",
    "\n",
    "#make a list of possible lines (range function that takes floats)\n",
    "def drange(x, y, jump):\n",
    "    r=[]\n",
    "    while x < y:\n",
    "        r.append(float(x))\n",
    "        x += jump\n",
    "    return r\n",
    "\n",
    "#create lists of possible points (min x to max x, min y to max y)\n",
    "#O(nlogn)\n",
    "def get_all_possible(points):\n",
    "    x_sort = sorted(points, key=lambda x: x[0])\n",
    "    y_sort = sorted(points, key=lambda x: x[1])\n",
    "    x_min = x_sort[0][0]\n",
    "    x_max = x_sort[-1][0]\n",
    "    y_min = y_sort[0][1]\n",
    "    y_max = y_sort[-1][1]\n",
    "    x = [0]*len(x_sort)\n",
    "    y = [1]*len(y_sort)\n",
    "    \n",
    "    return (list(zip(drange(x_min+.5,x_max+.5,1),x))), (list(zip(drange(y_min+.5,y_max+.5,1),y)))\n",
    "    #return drange(x_min+.5,x_max+.5,1)\n",
    "    \n",
    "def get_possible(points):\n",
    "    x_sort = sorted(points, key=lambda x: x[0])\n",
    "    y_sort = sorted(points, key=lambda x: x[1])\n",
    "    x_min = x_sort[0][0]\n",
    "    x_max = x_sort[-1][0]\n",
    "    y_min = y_sort[0][1]\n",
    "    y_max = y_sort[-1][1]\n",
    "    x = [0]*len(x_sort)\n",
    "    y = [1]*len(y_sort)\n",
    "    \n",
    "    return (list(zip(drange(x_min+.5,x_max+.5,1),x))) + (list(zip(drange(y_min+.5,y_max+.5,1),y)))\n",
    "    #return drange(x_min+.5,x_max+.5,1)\n",
    "\n",
    "def get_x_y_lines(lines):\n",
    "    x_lines=[]\n",
    "    y_lines=[]\n",
    "    for line in lines:\n",
    "        if line[1] == 0:\n",
    "            x_lines.append(line[0])\n",
    "        else:\n",
    "            y_lines.append(line[0])\n",
    "    return x_lines,y_lines\n",
    "\n",
    "def collisions(points,lines):\n",
    "    n=len(points)\n",
    "    #if pair[0] not in lines:\n",
    "       # print(pair[0],lines)\n",
    "    #else:\n",
    "     #   lines.remove(pair[0])\n",
    "    #if pair[1] not in lines:\n",
    "    #    print(pair[1],lines)\n",
    "    #else:\n",
    "    #    lines.remove(pair[1])\n",
    "    #if possible_line in lines:\n",
    "    #    print(possible_line,lines)\n",
    "    #else:\n",
    "    #    lines.append(possible_line)\n",
    "    x_lines,y_lines=get_x_y_lines(lines)\n",
    "    x_interval = [0]\n",
    "    x_interval.extend(x_lines)\n",
    "    x_interval.append(len(points)+1)\n",
    "    y_interval = [0]\n",
    "    y_interval.extend(y_lines)\n",
    "    y_interval.append(len(points)+1)\n",
    "    boxes=[]\n",
    "    for point in points:\n",
    "        #find box of point\n",
    "        #print(point)\n",
    "        x_box=0\n",
    "        while point[0]>=x_interval[x_box] and x_box<len(x_interval):\n",
    "            x_box+=1\n",
    "        y_box=0\n",
    "        while point[1]>=y_interval[y_box] and y_box<len(y_interval):\n",
    "            y_box+=1\n",
    "        box = (x_box-1,y_box-1)\n",
    "        if box in boxes:\n",
    "            return True\n",
    "        else:\n",
    "            boxes.append(box)\n",
    "    return False\n",
    "\n",
    "def generate_possible_lines(points,lines_drawn):\n",
    "    all_possible = get_possible(points)\n",
    "    for line in lines_drawn:\n",
    "        if line in all_possible:\n",
    "            all_possible.remove(line)\n",
    "    return(all_possible)"
   ]
  },
  {
   "cell_type": "code",
   "execution_count": 23,
   "metadata": {
    "collapsed": true
   },
   "outputs": [],
   "source": [
    "def solution(points,lines_drawn):\n",
    "    print(len(lines_drawn))\n",
    "    if len(lines_drawn)==math.ceil(math.sqrt(len(points))*2)-2:\n",
    "        return(lines_drawn)\n",
    "    \n",
    "    x = get_combinations(lines_drawn)\n",
    "    possible_lines = generate_possible_lines(points,lines_drawn)\n",
    "    \n",
    "    for pair in x:\n",
    "        lines_drawn.remove(pair[0])\n",
    "        lines_drawn.remove(pair[1])\n",
    "        all_collisions=True\n",
    "        for possible_line in possible_lines:\n",
    "            lines_drawn.append(possible_line)\n",
    "            if collisions(points,lines_drawn)==False:\n",
    "                all_collisions=False\n",
    "                solution(points,lines_drawn)\n",
    "                #print(\"CALL TO SOLUTION:\",lines_drawn,possible_lines)\n",
    "                #solution(points,lines_drawn)\n",
    "                #sol_stack.append(copy.copy(lines_drawn))\n",
    "            lines_drawn.remove(possible_line)\n",
    "        lines_drawn.append(pair[0])\n",
    "        lines_drawn.append(pair[1])\n",
    "        if all_collisions:\n",
    "            return(lines_drawn)\n",
    "    #print(sol_stack)\n",
    "    return(lines_drawn)"
   ]
  },
  {
   "cell_type": "code",
   "execution_count": 27,
   "metadata": {
    "collapsed": false
   },
   "outputs": [
    {
     "name": "stdout",
     "output_type": "stream",
     "text": [
      "27\n",
      "26\n"
     ]
    },
    {
     "data": {
      "image/png": "[encoded data removed]",
      "text/plain": [
       "<matplotlib.figure.Figure at 0x2381192f8d0>"
      ]
     },
     "metadata": {},
     "output_type": "display_data"
    }
   ],
   "source": [
    "##########################\n",
    "# Main Program: Import Data\n",
    "##########################\n",
    "#for filename in os.listdir(os.getcwd()+'/input'):\n",
    "    \n",
    "def read_file(filename):\n",
    "    points = []\n",
    "    with open('input/'+filename, 'r') as f:\n",
    "        inpt = f.readlines()\n",
    "        for point in inpt[1:]:\n",
    "            point = point.split(' ')\n",
    "            points.append(((int(point[0])),(int(point[1]))))\n",
    "    return points\n",
    "\n",
    "points = read_file('instance04.txt')\n",
    "all_x_lines,all_y_lines=get_all_possible(points)\n",
    "print(len(points))\n",
    "ld = solution(points,all_x_lines)\n",
    "#print(ld)\n",
    "plot(points,ld)"
   ]
  },
  {
   "cell_type": "code",
   "execution_count": 20,
   "metadata": {
    "collapsed": false
   },
   "outputs": [
    {
     "name": "stdout",
     "output_type": "stream",
     "text": [
      "2\n",
      "2\n",
      "2\n",
      "2\n"
     ]
    }
   ],
   "source": [
    "print (len(ld))\n",
    "for i in range (0,len(ld)):\n",
    "    if (vh[i] == 0):\n",
    "        print (\"v \", S[i])\n",
    "    elif (vh[i] == 1):\n",
    "        print (\"h \", S[i])"
   ]
  },
  {
   "cell_type": "code",
   "execution_count": 13,
   "metadata": {
    "collapsed": false
   },
   "outputs": [
    {
     "name": "stdout",
     "output_type": "stream",
     "text": [
      "[(1.5, 1), (2.5, 1), (3.5, 1), (4.5, 1), (5.5, 1), (6.5, 1), (7.5, 1), (8.5, 1), (9.5, 1), (10.5, 1), (11.5, 1), (12.5, 1), (13.5, 1), (14.5, 1), (15.5, 1), (16.5, 1), (17.5, 1), (18.5, 1), (19.5, 1), (20.5, 1), (21.5, 1), (22.5, 1), (23.5, 1), (24.5, 1), (25.5, 1), (26.5, 1), (27.5, 1), (28.5, 1), (29.5, 1), (30.5, 1), (31.5, 1), (32.5, 1), (33.5, 1), (34.5, 1), (35.5, 1), (36.5, 1), (37.5, 1), (38.5, 1), (39.5, 1), (40.5, 1), (41.5, 1), (42.5, 1), (43.5, 1), (44.5, 1), (45.5, 1), (46.5, 1), (47.5, 1), (48.5, 1), (49.5, 1), (50.5, 1), (51.5, 1), (52.5, 1), (53.5, 1), (54.5, 1), (55.5, 1), (56.5, 1), (57.5, 1), (58.5, 1), (59.5, 1), (60.5, 1), (61.5, 1), (62.5, 1), (63.5, 1), (64.5, 1), (65.5, 1), (66.5, 1), (67.5, 1), (68.5, 1), (69.5, 1), (70.5, 1), (71.5, 1), (72.5, 1), (73.5, 1), (74.5, 1), (75.5, 1), (76.5, 1), (77.5, 1), (78.5, 1), (79.5, 1), (80.5, 1), (81.5, 1), (82.5, 1), (83.5, 1), (84.5, 1), (85.5, 1), (86.5, 1), (87.5, 1), (88.5, 1), (89.5, 1), (90.5, 1), (91.5, 1), (92.5, 1), (93.5, 1), (94.5, 1), (95.5, 1), (96.5, 1), (97.5, 1), (98.5, 1), (99.5, 1)]\n"
     ]
    }
   ],
   "source": [
    "possible_lines = generate_possible_lines(points,all_x_lines)\n",
    "print(possible_lines)"
   ]
  },
  {
   "cell_type": "code",
   "execution_count": 8,
   "metadata": {
    "collapsed": false,
    "scrolled": true
   },
   "outputs": [
    {
     "data": {
      "text/plain": [
       "5"
      ]
     },
     "execution_count": 8,
     "metadata": {},
     "output_type": "execute_result"
    }
   ],
   "source": [
    "math.ceil(math.sqrt(len(points))*2)-2"
   ]
  },
  {
   "cell_type": "code",
   "execution_count": null,
   "metadata": {
    "collapsed": true
   },
   "outputs": [],
   "source": []
  }
 ],
 "metadata": {
  "anaconda-cloud": {},
  "kernelspec": {
   "display_name": "Python [default]",
   "language": "python",
   "name": "python3"
  },
  "language_info": {
   "codemirror_mode": {
    "name": "ipython",
    "version": 3
   },
   "file_extension": ".py",
   "mimetype": "text/x-python",
   "name": "python",
   "nbconvert_exporter": "python",
   "pygments_lexer": "ipython3",
   "version": "3.5.2"
  }
 },
 "nbformat": 4,
 "nbformat_minor": 0
}
