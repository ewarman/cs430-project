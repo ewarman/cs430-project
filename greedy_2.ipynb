{
 "cells": [
  {
   "cell_type": "code",
   "execution_count": 2,
   "metadata": {
    "collapsed": true
   },
   "outputs": [],
   "source": [
    "##########################\n",
    "# CS 430 Final Project\n",
    "# Emily Warman, Rachael Affenit\n",
    "# Local Approach\n",
    "##########################\n",
    "\n",
    "import os\n",
    "import copy\n",
    "import itertools\n",
    "import matplotlib.pyplot as plt\n",
    "import math"
   ]
  },
  {
   "cell_type": "code",
   "execution_count": 165,
   "metadata": {
    "collapsed": false
   },
   "outputs": [],
   "source": [
    "%matplotlib inline\n",
    "\n",
    "def plot(points,lines):\n",
    "    plt.scatter(*zip(*points))\n",
    "    axes = plt.gca()\n",
    "    #plot lines drawn\n",
    "    for line in lines:\n",
    "        if line[1]==0:\n",
    "            plt.plot([line[0], line[0]],[0,len(points)], color='b', linestyle='-',linewidth=2)\n",
    "        else:\n",
    "            plt.plot([0,len(points)],[line[0],line[0]], color='b', linestyle='-', linewidth=2)\n",
    "    plt.show()\n",
    "    \n",
    "#get all permutations of a list of possible lines\n",
    "def get_combinations(lines):\n",
    "    return itertools.combinations(lines,2)\n",
    "\n",
    "#make a list of possible lines (range function that takes floats)\n",
    "def drange(x, y, jump):\n",
    "    r=[]\n",
    "    while x < y:\n",
    "        r.append(float(x))\n",
    "        x += jump\n",
    "    return r\n",
    "\n",
    "#create lists of possible points (min x to max x, min y to max y)\n",
    "#O(nlogn)\n",
    "def get_all_possible(points):\n",
    "    x_sort = sorted(points, key=lambda x: x[0])\n",
    "    y_sort = sorted(points, key=lambda x: x[1])\n",
    "    x_min = x_sort[0][0]\n",
    "    x_max = x_sort[-1][0]\n",
    "    y_min = y_sort[0][1]\n",
    "    y_max = y_sort[-1][1]\n",
    "    x = [0]*len(x_sort)\n",
    "    y = [1]*len(y_sort)\n",
    "    \n",
    "    return (list(zip(drange(x_min+.5,x_max+.5,1),x))), (list(zip(drange(y_min+.5,y_max+.5,1),y)))\n",
    "    #return drange(x_min+.5,x_max+.5,1)\n",
    "    \n",
    "def get_possible(points):\n",
    "    x_sort = sorted(points, key=lambda x: x[0])\n",
    "    y_sort = sorted(points, key=lambda x: x[1])\n",
    "    x_min = x_sort[0][0]\n",
    "    x_max = x_sort[-1][0]\n",
    "    y_min = y_sort[0][1]\n",
    "    y_max = y_sort[-1][1]\n",
    "    x = [0]*len(x_sort)\n",
    "    y = [1]*len(y_sort)\n",
    "    \n",
    "    return (list(zip(drange(x_min+.5,x_max+.5,1),x))) + (list(zip(drange(y_min+.5,y_max+.5,1),y)))\n",
    "    #return drange(x_min+.5,x_max+.5,1)\n",
    "\n",
    "def get_x_y_lines(lines):\n",
    "    x_lines=[]\n",
    "    y_lines=[]\n",
    "    for line in lines:\n",
    "        if line[1] == 0:\n",
    "            x_lines.append(line[0])\n",
    "        else:\n",
    "            y_lines.append(line[0])\n",
    "    return x_lines,y_lines\n",
    "\n",
    "def collisions(points,lines):\n",
    "    n=len(points)\n",
    "    #if pair[0] not in lines:\n",
    "       # print(pair[0],lines)\n",
    "    #else:\n",
    "     #   lines.remove(pair[0])\n",
    "    #if pair[1] not in lines:\n",
    "    #    print(pair[1],lines)\n",
    "    #else:\n",
    "    #    lines.remove(pair[1])\n",
    "    #if possible_line in lines:\n",
    "    #    print(possible_line,lines)\n",
    "    #else:\n",
    "    #    lines.append(possible_line)\n",
    "    x_lines,y_lines=get_x_y_lines(lines)\n",
    "    x_interval = [0]\n",
    "    x_interval.extend(x_lines)\n",
    "    x_interval.append(len(points)+1)\n",
    "    y_interval = [0]\n",
    "    y_interval.extend(y_lines)\n",
    "    y_interval.append(len(points)+1)\n",
    "    boxes=[]\n",
    "    for point in points:\n",
    "        #find box of point\n",
    "        #print(point)\n",
    "        x_box=0\n",
    "        while point[0]>=x_interval[x_box] and x_box<len(x_interval):\n",
    "            x_box+=1\n",
    "        y_box=0\n",
    "        while point[1]>=y_interval[y_box] and y_box<len(y_interval):\n",
    "            y_box+=1\n",
    "        box = (x_box-1,y_box-1)\n",
    "        if box in boxes:\n",
    "            return True\n",
    "        else:\n",
    "            boxes.append(box)\n",
    "    return False\n",
    "\n",
    "def generate_possible_lines(points,lines_drawn):\n",
    "    all_possible = get_possible(points)\n",
    "    for line in lines_drawn:\n",
    "        if line in all_possible:\n",
    "            all_possible.remove(line)\n",
    "    return(all_possible)"
   ]
  },
  {
   "cell_type": "code",
   "execution_count": 222,
   "metadata": {
    "collapsed": true
   },
   "outputs": [],
   "source": [
    "def solution(points,lines_drawn):\n",
    "    print(len(lines_drawn))\n",
    "    if len(lines_drawn)==math.ceil(math.sqrt(len(points))*2)-2:\n",
    "        return(lines_drawn)\n",
    "    x = get_combinations(lines_drawn)\n",
    "    possible_lines = generate_possible_lines(points,lines_drawn)\n",
    "    #sol_stack=[lines_drawn]\n",
    "    #while sol_stack:\n",
    "    for pair in x:\n",
    "        #print(lines_drawn)\n",
    "        lines_drawn.remove(pair[0])\n",
    "        lines_drawn.remove(pair[1])\n",
    "        all_collisions=True\n",
    "        for possible_line in possible_lines:\n",
    "            lines_drawn.append(possible_line)\n",
    "            if collisions(points,lines_drawn)==False:\n",
    "                all_collisions=False\n",
    "                solution(points,lines_drawn)\n",
    "                    #print(\"CALL TO SOLUTION:\",lines_drawn,possible_lines)\n",
    "                    #solution(points,lines_drawn)\n",
    "                    #sol_stack.append(copy.copy(lines_drawn))\n",
    "            lines_drawn.remove(possible_line)\n",
    "        lines_drawn.append(pair[0])\n",
    "        lines_drawn.append(pair[1])\n",
    "        if all_collisions:\n",
    "            return(lines_drawn)\n",
    "    #print(sol_stack)\n",
    "    return(lines_drawn)"
   ]
  },
  {
   "cell_type": "code",
   "execution_count": 225,
   "metadata": {
    "collapsed": false
   },
   "outputs": [
    {
     "name": "stdout",
     "output_type": "stream",
     "text": [
      "10\n",
      "9\n"
     ]
    },
    {
     "data": {
      "image/png": "[encoded data removed]",
      "text/plain": [
       "<matplotlib.figure.Figure at 0x108e1c2e8>"
      ]
     },
     "metadata": {},
     "output_type": "display_data"
    }
   ],
   "source": [
    "##########################\n",
    "# Main Program: Import Data\n",
    "##########################\n",
    "#for filename in os.listdir(os.getcwd()+'/input'):\n",
    "    \n",
    "def read_file(filename):\n",
    "    points = []\n",
    "    with open('input/'+filename, 'r') as f:\n",
    "        inpt = f.readlines()\n",
    "        for point in inpt[1:]:\n",
    "            point = point.split(' ')\n",
    "            points.append(((int(point[0])),(int(point[1]))))\n",
    "    return points\n",
    "\n",
    "points = read_file('instance01.txt')\n",
    "all_x_lines,all_y_lines=get_all_possible(points)\n",
    "print(len(points))\n",
    "ld = solution(points,all_x_lines)\n",
    "#print(ld)\n",
    "plot(points,ld)"
   ]
  },
  {
   "cell_type": "code",
   "execution_count": 175,
   "metadata": {
    "collapsed": false
   },
   "outputs": [
    {
     "name": "stdout",
     "output_type": "stream",
     "text": [
      "10\n",
      "12\n",
      "14\n",
      "16\n",
      "18\n",
      "20\n",
      "22\n",
      "24\n",
      "34\n",
      "36\n"
     ]
    }
   ],
   "source": [
    "for x in ld:\n",
    "    print(len(x))"
   ]
  },
  {
   "cell_type": "code",
   "execution_count": 158,
   "metadata": {
    "collapsed": false
   },
   "outputs": [
    {
     "name": "stdout",
     "output_type": "stream",
     "text": [
      "[(1.5, 0), (2.5, 0), (1.5, 1), (2.5, 1), (3.5, 1), (4.5, 1), (5.5, 1), (6.5, 1), (7.5, 1), (8.5, 1), (9.5, 1)]\n"
     ]
    }
   ],
   "source": [
    "possible_lines = generate_possible_lines(points,all_x_lines)\n",
    "print(possible_lines)"
   ]
  },
  {
   "cell_type": "code",
   "execution_count": 33,
   "metadata": {
    "collapsed": false
   },
   "outputs": [
    {
     "data": {
      "text/plain": [
       "7"
      ]
     },
     "execution_count": 33,
     "metadata": {},
     "output_type": "execute_result"
    }
   ],
   "source": [
    "def solution(points,lines_drawn):\n",
    "    LEN = len(lines_drawn)\n",
    "    x = list(get_combinations(lines_drawn))\n",
    "    possible_lines = generate_possible_lines(points,lines_drawn)\n",
    "    print(possible_lines)\n",
    "    for pair in x:\n",
    "        for possible_line in possible_lines:\n",
    "            if collisions(pair,possible_line,points,lines_drawn)==False:\n",
    "                #print(\"NO COLLISIONS\")\n",
    "                if len(lines_drawn) == math.ceil(math.sqrt(len(points))*2)-2:\n",
    "                    return(lines_drawn)\n",
    "                else:\n",
    "                    #print(\"CALL TO SOLUTION:\",lines_drawn,possible_lines)\n",
    "                    solution(points,lines_drawn)\n",
    "            else:\n",
    "                lines_drawn.insert(0,pair[1])\n",
    "                lines_drawn.insert(0,pair[0])\n",
    "                lines_drawn.remove(possible_line)\n",
    "            #print(lines_drawn)\n",
    "    return(lines_drawn)"
   ]
  },
  {
   "cell_type": "code",
   "execution_count": 221,
   "metadata": {
    "collapsed": false
   },
   "outputs": [
    {
     "data": {
      "text/plain": [
       "5"
      ]
     },
     "execution_count": 221,
     "metadata": {},
     "output_type": "execute_result"
    }
   ],
   "source": [
    "math.ceil(math.sqrt(len(points))*2)-2"
   ]
  }
 ],
 "metadata": {
  "kernelspec": {
   "display_name": "Python 3",
   "language": "python",
   "name": "python3"
  },
  "language_info": {
   "codemirror_mode": {
    "name": "ipython",
    "version": 3
   },
   "file_extension": ".py",
   "mimetype": "text/x-python",
   "name": "python",
   "nbconvert_exporter": "python",
   "pygments_lexer": "ipython3",
   "version": "3.5.1"
  }
 },
 "nbformat": 4,
 "nbformat_minor": 0
}
